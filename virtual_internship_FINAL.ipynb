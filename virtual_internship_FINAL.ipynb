{
 "cells": [
  {
   "cell_type": "markdown",
   "metadata": {},
   "source": [
    "# Virtual Internships Project"
   ]
  },
  {
   "cell_type": "markdown",
   "metadata": {},
   "source": [
    "## Pre-processing and Cleaning\n",
    "\n",
    "First we will import all relevant modules. We will then import our csv as a pandas dataframe for easy use."
   ]
  },
  {
   "cell_type": "code",
   "execution_count": 1,
   "metadata": {},
   "outputs": [],
   "source": [
    "import pandas as pd\n",
    "import numpy as np"
   ]
  },
  {
   "cell_type": "code",
   "execution_count": 2,
   "metadata": {},
   "outputs": [
    {
     "data": {
      "text/html": [
       "<div>\n",
       "<style scoped>\n",
       "    .dataframe tbody tr th:only-of-type {\n",
       "        vertical-align: middle;\n",
       "    }\n",
       "\n",
       "    .dataframe tbody tr th {\n",
       "        vertical-align: top;\n",
       "    }\n",
       "\n",
       "    .dataframe thead th {\n",
       "        text-align: right;\n",
       "    }\n",
       "</style>\n",
       "<table border=\"1\" class=\"dataframe\">\n",
       "  <thead>\n",
       "    <tr style=\"text-align: right;\">\n",
       "      <th></th>\n",
       "      <th>userIDs</th>\n",
       "      <th>implementation</th>\n",
       "      <th>Line_ID</th>\n",
       "      <th>ChatGroup</th>\n",
       "      <th>content</th>\n",
       "      <th>group_id</th>\n",
       "      <th>RoleName</th>\n",
       "      <th>roomName</th>\n",
       "      <th>m_experimental_testing</th>\n",
       "      <th>m_making_design_choices</th>\n",
       "      <th>m_asking_questions</th>\n",
       "      <th>j_customer_consultants_requests</th>\n",
       "      <th>j_performance_parameters_requirements</th>\n",
       "      <th>j_communication</th>\n",
       "      <th>OutcomeScore</th>\n",
       "      <th>wordCount</th>\n",
       "    </tr>\n",
       "  </thead>\n",
       "  <tbody>\n",
       "    <tr>\n",
       "      <th>0</th>\n",
       "      <td>1</td>\n",
       "      <td>a</td>\n",
       "      <td>1</td>\n",
       "      <td>PRNLT</td>\n",
       "      <td>Hello team. Welcome to Nephrotex!</td>\n",
       "      <td>2</td>\n",
       "      <td>Mentor</td>\n",
       "      <td>Introduction and Workflow Tutorial with Entran...</td>\n",
       "      <td>0</td>\n",
       "      <td>0</td>\n",
       "      <td>0</td>\n",
       "      <td>0</td>\n",
       "      <td>0</td>\n",
       "      <td>0</td>\n",
       "      <td>4</td>\n",
       "      <td>5</td>\n",
       "    </tr>\n",
       "    <tr>\n",
       "      <th>1</th>\n",
       "      <td>1</td>\n",
       "      <td>a</td>\n",
       "      <td>2</td>\n",
       "      <td>PRNLT</td>\n",
       "      <td>I'm Maria Williams. I'll be your design adviso...</td>\n",
       "      <td>2</td>\n",
       "      <td>Mentor</td>\n",
       "      <td>Introduction and Workflow Tutorial with Entran...</td>\n",
       "      <td>0</td>\n",
       "      <td>0</td>\n",
       "      <td>0</td>\n",
       "      <td>0</td>\n",
       "      <td>0</td>\n",
       "      <td>0</td>\n",
       "      <td>4</td>\n",
       "      <td>11</td>\n",
       "    </tr>\n",
       "    <tr>\n",
       "      <th>2</th>\n",
       "      <td>1</td>\n",
       "      <td>a</td>\n",
       "      <td>3</td>\n",
       "      <td>PRNLT</td>\n",
       "      <td>I'm here to help if you have any questions.</td>\n",
       "      <td>2</td>\n",
       "      <td>Mentor</td>\n",
       "      <td>Introduction and Workflow Tutorial with Entran...</td>\n",
       "      <td>0</td>\n",
       "      <td>0</td>\n",
       "      <td>0</td>\n",
       "      <td>0</td>\n",
       "      <td>0</td>\n",
       "      <td>0</td>\n",
       "      <td>4</td>\n",
       "      <td>9</td>\n",
       "    </tr>\n",
       "    <tr>\n",
       "      <th>3</th>\n",
       "      <td>1</td>\n",
       "      <td>a</td>\n",
       "      <td>4</td>\n",
       "      <td>PRNLT</td>\n",
       "      <td>Please introduce yourselves with the name you ...</td>\n",
       "      <td>2</td>\n",
       "      <td>Mentor</td>\n",
       "      <td>Introduction and Workflow Tutorial with Entran...</td>\n",
       "      <td>0</td>\n",
       "      <td>0</td>\n",
       "      <td>0</td>\n",
       "      <td>1</td>\n",
       "      <td>0</td>\n",
       "      <td>0</td>\n",
       "      <td>4</td>\n",
       "      <td>51</td>\n",
       "    </tr>\n",
       "    <tr>\n",
       "      <th>4</th>\n",
       "      <td>1</td>\n",
       "      <td>a</td>\n",
       "      <td>5</td>\n",
       "      <td>PRNLT</td>\n",
       "      <td>I just want to make sure everyone has found th...</td>\n",
       "      <td>2</td>\n",
       "      <td>Mentor</td>\n",
       "      <td>Introduction and Workflow Tutorial with Entran...</td>\n",
       "      <td>0</td>\n",
       "      <td>0</td>\n",
       "      <td>0</td>\n",
       "      <td>0</td>\n",
       "      <td>0</td>\n",
       "      <td>0</td>\n",
       "      <td>4</td>\n",
       "      <td>39</td>\n",
       "    </tr>\n",
       "  </tbody>\n",
       "</table>\n",
       "</div>"
      ],
      "text/plain": [
       "   userIDs implementation  Line_ID ChatGroup  \\\n",
       "0        1              a        1     PRNLT   \n",
       "1        1              a        2     PRNLT   \n",
       "2        1              a        3     PRNLT   \n",
       "3        1              a        4     PRNLT   \n",
       "4        1              a        5     PRNLT   \n",
       "\n",
       "                                             content  group_id RoleName  \\\n",
       "0                  Hello team. Welcome to Nephrotex!         2   Mentor   \n",
       "1  I'm Maria Williams. I'll be your design adviso...         2   Mentor   \n",
       "2        I'm here to help if you have any questions.         2   Mentor   \n",
       "3  Please introduce yourselves with the name you ...         2   Mentor   \n",
       "4  I just want to make sure everyone has found th...         2   Mentor   \n",
       "\n",
       "                                            roomName  m_experimental_testing  \\\n",
       "0  Introduction and Workflow Tutorial with Entran...                       0   \n",
       "1  Introduction and Workflow Tutorial with Entran...                       0   \n",
       "2  Introduction and Workflow Tutorial with Entran...                       0   \n",
       "3  Introduction and Workflow Tutorial with Entran...                       0   \n",
       "4  Introduction and Workflow Tutorial with Entran...                       0   \n",
       "\n",
       "   m_making_design_choices  m_asking_questions  \\\n",
       "0                        0                   0   \n",
       "1                        0                   0   \n",
       "2                        0                   0   \n",
       "3                        0                   0   \n",
       "4                        0                   0   \n",
       "\n",
       "   j_customer_consultants_requests  j_performance_parameters_requirements  \\\n",
       "0                                0                                      0   \n",
       "1                                0                                      0   \n",
       "2                                0                                      0   \n",
       "3                                1                                      0   \n",
       "4                                0                                      0   \n",
       "\n",
       "   j_communication  OutcomeScore  wordCount  \n",
       "0                0             4          5  \n",
       "1                0             4         11  \n",
       "2                0             4          9  \n",
       "3                0             4         51  \n",
       "4                0             4         39  "
      ]
     },
     "execution_count": 2,
     "metadata": {},
     "output_type": "execute_result"
    }
   ],
   "source": [
    "df = pd.read_csv('virtualInternshipData_ADS2001.csv', encoding= 'unicode_escape') #read the csv provided\n",
    "df = df.drop(\"Unnamed: 0\",axis=1) #drop the unnamed column\n",
    "df.head() #print first several rows of data frame"
   ]
  },
  {
   "cell_type": "code",
   "execution_count": 3,
   "metadata": {},
   "outputs": [
    {
     "data": {
      "image/png": "[encoded data removed]",
      "text/plain": [
       "<Figure size 432x288 with 1 Axes>"
      ]
     },
     "metadata": {
      "needs_background": "light"
     },
     "output_type": "display_data"
    }
   ],
   "source": [
    "df[df['RoleName']==\"Mentor\"][\"OutcomeScore\"].value_counts().plot(kind='bar', title='Mentor Outcome Scores');"
   ]
  },
  {
   "cell_type": "markdown",
   "metadata": {},
   "source": [
    "As we can see, if the certain user is a mentor, they are automatically assigned an outcome score of 4 which will be irrelevant for our model because we are trying to predict the player scores."
   ]
  },
  {
   "cell_type": "code",
   "execution_count": 4,
   "metadata": {},
   "outputs": [
    {
     "data": {
      "image/png": "[encoded data removed]",
      "text/plain": [
       "<Figure size 432x288 with 1 Axes>"
      ]
     },
     "metadata": {
      "needs_background": "light"
     },
     "output_type": "display_data"
    }
   ],
   "source": [
    "df[df['RoleName']==\"Player\"][\"OutcomeScore\"].value_counts().plot(kind='bar', title='Player Outcome Scores');"
   ]
  },
  {
   "cell_type": "code",
   "execution_count": 5,
   "metadata": {},
   "outputs": [],
   "source": [
    "import copy\n",
    "df = copy.deepcopy(df[df['RoleName']==\"Player\"]) #only get dataframe with Player\n",
    "df = df.sort_values(by=['userIDs']) #to group outcome scores later on \n",
    "df = df.reset_index()"
   ]
  },
  {
   "cell_type": "markdown",
   "metadata": {},
   "source": [
    "## Visualisations"
   ]
  },
  {
   "cell_type": "markdown",
   "metadata": {},
   "source": [
    "https://public.tableau.com/profile/rishikha.thangavelu?fbclid=IwAR2XDhjvaXQ_UapkeFgWWTo101VBVA8Ke9WSKY1LC9Fv_5YapJgsc2f6lAk#!/vizhome/VICompareteams2005/Compareteams\n",
    "\n",
    "https://public.tableau.com/profile/rishikha.thangavelu?fbclid=IwAR2Qu6DAIIaduF0j4lQ075y1KolLQAaTKnFZMNizQZGl2mec6mwzz1yUXbE#!/vizhome/Mentorseffectonoutcomescorestory/Mentor\n",
    "\n",
    "https://public.tableau.com/profile/rishikha.thangavelu?fbclid=IwAR0s2KxV_xe-eh2T7Uy58ZhzzxviV0CnKb1tgXgIcXSSURsTAx_ySqg-YWY#!/vizhome/VI29040150/Performanceofuserswithinteam"
   ]
  },
  {
   "cell_type": "markdown",
   "metadata": {},
   "source": [
    "## Team Level Statistics\n",
    "- Find important stats for each group, each implementation and each true team\n",
    "- Run models on true teams"
   ]
  },
  {
   "cell_type": "markdown",
   "metadata": {},
   "source": [
    "Create a new column that contains the true team name and cut out unecessary columns"
   ]
  },
  {
   "cell_type": "code",
   "execution_count": 6,
   "metadata": {},
   "outputs": [
    {
     "data": {
      "text/html": [
       "<div>\n",
       "<style scoped>\n",
       "    .dataframe tbody tr th:only-of-type {\n",
       "        vertical-align: middle;\n",
       "    }\n",
       "\n",
       "    .dataframe tbody tr th {\n",
       "        vertical-align: top;\n",
       "    }\n",
       "\n",
       "    .dataframe thead th {\n",
       "        text-align: right;\n",
       "    }\n",
       "</style>\n",
       "<table border=\"1\" class=\"dataframe\">\n",
       "  <thead>\n",
       "    <tr style=\"text-align: right;\">\n",
       "      <th></th>\n",
       "      <th>userIDs</th>\n",
       "      <th>implementation</th>\n",
       "      <th>group_id</th>\n",
       "      <th>m_experimental_testing</th>\n",
       "      <th>m_making_design_choices</th>\n",
       "      <th>m_asking_questions</th>\n",
       "      <th>j_customer_consultants_requests</th>\n",
       "      <th>j_performance_parameters_requirements</th>\n",
       "      <th>j_communication</th>\n",
       "      <th>OutcomeScore</th>\n",
       "      <th>team</th>\n",
       "    </tr>\n",
       "  </thead>\n",
       "  <tbody>\n",
       "    <tr>\n",
       "      <th>0</th>\n",
       "      <td>2</td>\n",
       "      <td>a</td>\n",
       "      <td>2</td>\n",
       "      <td>0</td>\n",
       "      <td>0</td>\n",
       "      <td>0</td>\n",
       "      <td>0</td>\n",
       "      <td>0</td>\n",
       "      <td>0</td>\n",
       "      <td>4</td>\n",
       "      <td>2a</td>\n",
       "    </tr>\n",
       "    <tr>\n",
       "      <th>1</th>\n",
       "      <td>2</td>\n",
       "      <td>a</td>\n",
       "      <td>2</td>\n",
       "      <td>0</td>\n",
       "      <td>0</td>\n",
       "      <td>0</td>\n",
       "      <td>0</td>\n",
       "      <td>0</td>\n",
       "      <td>0</td>\n",
       "      <td>4</td>\n",
       "      <td>2a</td>\n",
       "    </tr>\n",
       "    <tr>\n",
       "      <th>2</th>\n",
       "      <td>2</td>\n",
       "      <td>a</td>\n",
       "      <td>2</td>\n",
       "      <td>0</td>\n",
       "      <td>0</td>\n",
       "      <td>1</td>\n",
       "      <td>0</td>\n",
       "      <td>0</td>\n",
       "      <td>0</td>\n",
       "      <td>4</td>\n",
       "      <td>2a</td>\n",
       "    </tr>\n",
       "    <tr>\n",
       "      <th>3</th>\n",
       "      <td>2</td>\n",
       "      <td>a</td>\n",
       "      <td>2</td>\n",
       "      <td>0</td>\n",
       "      <td>0</td>\n",
       "      <td>0</td>\n",
       "      <td>0</td>\n",
       "      <td>0</td>\n",
       "      <td>0</td>\n",
       "      <td>4</td>\n",
       "      <td>2a</td>\n",
       "    </tr>\n",
       "    <tr>\n",
       "      <th>4</th>\n",
       "      <td>2</td>\n",
       "      <td>a</td>\n",
       "      <td>2</td>\n",
       "      <td>0</td>\n",
       "      <td>0</td>\n",
       "      <td>0</td>\n",
       "      <td>0</td>\n",
       "      <td>0</td>\n",
       "      <td>0</td>\n",
       "      <td>4</td>\n",
       "      <td>2a</td>\n",
       "    </tr>\n",
       "  </tbody>\n",
       "</table>\n",
       "</div>"
      ],
      "text/plain": [
       "   userIDs implementation  group_id  m_experimental_testing  \\\n",
       "0        2              a         2                       0   \n",
       "1        2              a         2                       0   \n",
       "2        2              a         2                       0   \n",
       "3        2              a         2                       0   \n",
       "4        2              a         2                       0   \n",
       "\n",
       "   m_making_design_choices  m_asking_questions  \\\n",
       "0                        0                   0   \n",
       "1                        0                   0   \n",
       "2                        0                   1   \n",
       "3                        0                   0   \n",
       "4                        0                   0   \n",
       "\n",
       "   j_customer_consultants_requests  j_performance_parameters_requirements  \\\n",
       "0                                0                                      0   \n",
       "1                                0                                      0   \n",
       "2                                0                                      0   \n",
       "3                                0                                      0   \n",
       "4                                0                                      0   \n",
       "\n",
       "   j_communication  OutcomeScore team  \n",
       "0                0             4   2a  \n",
       "1                0             4   2a  \n",
       "2                0             4   2a  \n",
       "3                0             4   2a  \n",
       "4                0             4   2a  "
      ]
     },
     "execution_count": 6,
     "metadata": {},
     "output_type": "execute_result"
    }
   ],
   "source": [
    "team_level_df = copy.deepcopy(df[['userIDs', 'implementation', 'group_id', 'm_experimental_testing', 'm_making_design_choices', 'm_asking_questions', 'j_customer_consultants_requests', 'j_performance_parameters_requirements', 'j_communication', 'OutcomeScore']])\n",
    "team_level_df['team'] = team_level_df['group_id'].astype(str) + team_level_df['implementation'] # Concat group and implementation\n",
    "team_level_df.head()"
   ]
  },
  {
   "cell_type": "markdown",
   "metadata": {},
   "source": [
    "### Data frame seperated by group_id\n",
    "Drop irrelevant columns and group by group_id, then loop through original dataset to get average scores"
   ]
  },
  {
   "cell_type": "code",
   "execution_count": 7,
   "metadata": {},
   "outputs": [
    {
     "data": {
      "text/html": [
       "<div>\n",
       "<style scoped>\n",
       "    .dataframe tbody tr th:only-of-type {\n",
       "        vertical-align: middle;\n",
       "    }\n",
       "\n",
       "    .dataframe tbody tr th {\n",
       "        vertical-align: top;\n",
       "    }\n",
       "\n",
       "    .dataframe thead th {\n",
       "        text-align: right;\n",
       "    }\n",
       "</style>\n",
       "<table border=\"1\" class=\"dataframe\">\n",
       "  <thead>\n",
       "    <tr style=\"text-align: right;\">\n",
       "      <th></th>\n",
       "      <th>m_experimental_testing</th>\n",
       "      <th>m_making_design_choices</th>\n",
       "      <th>m_asking_questions</th>\n",
       "      <th>j_customer_consultants_requests</th>\n",
       "      <th>j_performance_parameters_requirements</th>\n",
       "      <th>j_communication</th>\n",
       "      <th>avgScore</th>\n",
       "      <th>std</th>\n",
       "    </tr>\n",
       "    <tr>\n",
       "      <th>group_id</th>\n",
       "      <th></th>\n",
       "      <th></th>\n",
       "      <th></th>\n",
       "      <th></th>\n",
       "      <th></th>\n",
       "      <th></th>\n",
       "      <th></th>\n",
       "      <th></th>\n",
       "    </tr>\n",
       "  </thead>\n",
       "  <tbody>\n",
       "    <tr>\n",
       "      <th>2</th>\n",
       "      <td>102</td>\n",
       "      <td>349</td>\n",
       "      <td>617</td>\n",
       "      <td>63</td>\n",
       "      <td>202</td>\n",
       "      <td>43</td>\n",
       "      <td>3.41</td>\n",
       "      <td>1.43</td>\n",
       "    </tr>\n",
       "    <tr>\n",
       "      <th>3</th>\n",
       "      <td>61</td>\n",
       "      <td>333</td>\n",
       "      <td>601</td>\n",
       "      <td>86</td>\n",
       "      <td>173</td>\n",
       "      <td>41</td>\n",
       "      <td>3.67</td>\n",
       "      <td>1.75</td>\n",
       "    </tr>\n",
       "    <tr>\n",
       "      <th>4</th>\n",
       "      <td>154</td>\n",
       "      <td>357</td>\n",
       "      <td>644</td>\n",
       "      <td>56</td>\n",
       "      <td>187</td>\n",
       "      <td>36</td>\n",
       "      <td>3.78</td>\n",
       "      <td>1.59</td>\n",
       "    </tr>\n",
       "    <tr>\n",
       "      <th>5</th>\n",
       "      <td>111</td>\n",
       "      <td>356</td>\n",
       "      <td>519</td>\n",
       "      <td>54</td>\n",
       "      <td>160</td>\n",
       "      <td>30</td>\n",
       "      <td>4.09</td>\n",
       "      <td>1.38</td>\n",
       "    </tr>\n",
       "    <tr>\n",
       "      <th>6</th>\n",
       "      <td>91</td>\n",
       "      <td>314</td>\n",
       "      <td>535</td>\n",
       "      <td>44</td>\n",
       "      <td>179</td>\n",
       "      <td>34</td>\n",
       "      <td>3.64</td>\n",
       "      <td>1.52</td>\n",
       "    </tr>\n",
       "  </tbody>\n",
       "</table>\n",
       "</div>"
      ],
      "text/plain": [
       "          m_experimental_testing  m_making_design_choices  m_asking_questions  \\\n",
       "group_id                                                                        \n",
       "2                            102                      349                 617   \n",
       "3                             61                      333                 601   \n",
       "4                            154                      357                 644   \n",
       "5                            111                      356                 519   \n",
       "6                             91                      314                 535   \n",
       "\n",
       "          j_customer_consultants_requests  \\\n",
       "group_id                                    \n",
       "2                                      63   \n",
       "3                                      86   \n",
       "4                                      56   \n",
       "5                                      54   \n",
       "6                                      44   \n",
       "\n",
       "          j_performance_parameters_requirements  j_communication  avgScore  \\\n",
       "group_id                                                                     \n",
       "2                                           202               43      3.41   \n",
       "3                                           173               41      3.67   \n",
       "4                                           187               36      3.78   \n",
       "5                                           160               30      4.09   \n",
       "6                                           179               34      3.64   \n",
       "\n",
       "           std  \n",
       "group_id        \n",
       "2         1.43  \n",
       "3         1.75  \n",
       "4         1.59  \n",
       "5         1.38  \n",
       "6         1.52  "
      ]
     },
     "execution_count": 7,
     "metadata": {},
     "output_type": "execute_result"
    }
   ],
   "source": [
    "group_df = team_level_df.drop(['userIDs','OutcomeScore'],axis=1) # Neither User ID or score are useful when summed\n",
    "group_df = group_df.groupby(['group_id'], axis=0).sum() # Group data by each group and sum\n",
    "\n",
    "avgScore = []\n",
    "std = []\n",
    "for group in range(2,7): # Loops through groups and finds average score and standard deviation\n",
    "    tempdf = team_level_df[team_level_df['group_id'] == group]\n",
    "    avgScore.append(np.round(tempdf['OutcomeScore'].mean(),2))\n",
    "    std.append(np.round(tempdf['OutcomeScore'].std(),2))\n",
    "\n",
    "group_df['avgScore'] = avgScore\n",
    "group_df['std'] = std\n",
    "\n",
    "group_df"
   ]
  },
  {
   "cell_type": "markdown",
   "metadata": {},
   "source": [
    "### Data frame seperated by implementation"
   ]
  },
  {
   "cell_type": "code",
   "execution_count": 8,
   "metadata": {},
   "outputs": [
    {
     "data": {
      "text/html": [
       "<div>\n",
       "<style scoped>\n",
       "    .dataframe tbody tr th:only-of-type {\n",
       "        vertical-align: middle;\n",
       "    }\n",
       "\n",
       "    .dataframe tbody tr th {\n",
       "        vertical-align: top;\n",
       "    }\n",
       "\n",
       "    .dataframe thead th {\n",
       "        text-align: right;\n",
       "    }\n",
       "</style>\n",
       "<table border=\"1\" class=\"dataframe\">\n",
       "  <thead>\n",
       "    <tr style=\"text-align: right;\">\n",
       "      <th></th>\n",
       "      <th>m_experimental_testing</th>\n",
       "      <th>m_making_design_choices</th>\n",
       "      <th>m_asking_questions</th>\n",
       "      <th>j_customer_consultants_requests</th>\n",
       "      <th>j_performance_parameters_requirements</th>\n",
       "      <th>j_communication</th>\n",
       "      <th>avgScore</th>\n",
       "      <th>std</th>\n",
       "    </tr>\n",
       "    <tr>\n",
       "      <th>implementation</th>\n",
       "      <th></th>\n",
       "      <th></th>\n",
       "      <th></th>\n",
       "      <th></th>\n",
       "      <th></th>\n",
       "      <th></th>\n",
       "      <th></th>\n",
       "      <th></th>\n",
       "    </tr>\n",
       "  </thead>\n",
       "  <tbody>\n",
       "    <tr>\n",
       "      <th>a</th>\n",
       "      <td>45</td>\n",
       "      <td>128</td>\n",
       "      <td>202</td>\n",
       "      <td>14</td>\n",
       "      <td>85</td>\n",
       "      <td>13</td>\n",
       "      <td>2.88</td>\n",
       "      <td>1.45</td>\n",
       "    </tr>\n",
       "    <tr>\n",
       "      <th>b</th>\n",
       "      <td>35</td>\n",
       "      <td>83</td>\n",
       "      <td>161</td>\n",
       "      <td>22</td>\n",
       "      <td>56</td>\n",
       "      <td>14</td>\n",
       "      <td>3.58</td>\n",
       "      <td>0.88</td>\n",
       "    </tr>\n",
       "    <tr>\n",
       "      <th>c</th>\n",
       "      <td>35</td>\n",
       "      <td>129</td>\n",
       "      <td>328</td>\n",
       "      <td>13</td>\n",
       "      <td>78</td>\n",
       "      <td>11</td>\n",
       "      <td>3.24</td>\n",
       "      <td>1.39</td>\n",
       "    </tr>\n",
       "    <tr>\n",
       "      <th>d</th>\n",
       "      <td>40</td>\n",
       "      <td>142</td>\n",
       "      <td>269</td>\n",
       "      <td>19</td>\n",
       "      <td>50</td>\n",
       "      <td>17</td>\n",
       "      <td>3.32</td>\n",
       "      <td>1.50</td>\n",
       "    </tr>\n",
       "    <tr>\n",
       "      <th>e</th>\n",
       "      <td>21</td>\n",
       "      <td>126</td>\n",
       "      <td>186</td>\n",
       "      <td>22</td>\n",
       "      <td>46</td>\n",
       "      <td>19</td>\n",
       "      <td>3.94</td>\n",
       "      <td>1.36</td>\n",
       "    </tr>\n",
       "  </tbody>\n",
       "</table>\n",
       "</div>"
      ],
      "text/plain": [
       "                m_experimental_testing  m_making_design_choices  \\\n",
       "implementation                                                    \n",
       "a                                   45                      128   \n",
       "b                                   35                       83   \n",
       "c                                   35                      129   \n",
       "d                                   40                      142   \n",
       "e                                   21                      126   \n",
       "\n",
       "                m_asking_questions  j_customer_consultants_requests  \\\n",
       "implementation                                                        \n",
       "a                              202                               14   \n",
       "b                              161                               22   \n",
       "c                              328                               13   \n",
       "d                              269                               19   \n",
       "e                              186                               22   \n",
       "\n",
       "                j_performance_parameters_requirements  j_communication  \\\n",
       "implementation                                                           \n",
       "a                                                  85               13   \n",
       "b                                                  56               14   \n",
       "c                                                  78               11   \n",
       "d                                                  50               17   \n",
       "e                                                  46               19   \n",
       "\n",
       "                avgScore   std  \n",
       "implementation                  \n",
       "a                   2.88  1.45  \n",
       "b                   3.58  0.88  \n",
       "c                   3.24  1.39  \n",
       "d                   3.32  1.50  \n",
       "e                   3.94  1.36  "
      ]
     },
     "execution_count": 8,
     "metadata": {},
     "output_type": "execute_result"
    }
   ],
   "source": [
    "implement_df = team_level_df.drop(['userIDs','OutcomeScore','group_id'],axis=1) \n",
    "implement_df = implement_df.groupby(['implementation'], axis=0).sum() \n",
    "avgScore = []\n",
    "std = []\n",
    "for implementation in team_level_df['implementation'].unique():\n",
    "    tempdf = team_level_df[team_level_df['implementation'] == implementation]\n",
    "    avgScore.append(np.round(tempdf['OutcomeScore'].mean(),2))\n",
    "    std.append(np.round(tempdf['OutcomeScore'].std(),2))\n",
    "\n",
    "implement_df['avgScore'] = avgScore\n",
    "implement_df['std'] = std\n",
    "\n",
    "implement_df.head()"
   ]
  },
  {
   "cell_type": "markdown",
   "metadata": {},
   "source": [
    "### Data frame seperated by team"
   ]
  },
  {
   "cell_type": "code",
   "execution_count": 9,
   "metadata": {},
   "outputs": [
    {
     "data": {
      "text/html": [
       "<div>\n",
       "<style scoped>\n",
       "    .dataframe tbody tr th:only-of-type {\n",
       "        vertical-align: middle;\n",
       "    }\n",
       "\n",
       "    .dataframe tbody tr th {\n",
       "        vertical-align: top;\n",
       "    }\n",
       "\n",
       "    .dataframe thead th {\n",
       "        text-align: right;\n",
       "    }\n",
       "</style>\n",
       "<table border=\"1\" class=\"dataframe\">\n",
       "  <thead>\n",
       "    <tr style=\"text-align: right;\">\n",
       "      <th></th>\n",
       "      <th>team</th>\n",
       "      <th>m_experimental_testing</th>\n",
       "      <th>m_making_design_choices</th>\n",
       "      <th>m_asking_questions</th>\n",
       "      <th>j_customer_consultants_requests</th>\n",
       "      <th>j_performance_parameters_requirements</th>\n",
       "      <th>j_communication</th>\n",
       "      <th>avgScore</th>\n",
       "      <th>std</th>\n",
       "    </tr>\n",
       "  </thead>\n",
       "  <tbody>\n",
       "    <tr>\n",
       "      <th>0</th>\n",
       "      <td>2a</td>\n",
       "      <td>10</td>\n",
       "      <td>21</td>\n",
       "      <td>54</td>\n",
       "      <td>2</td>\n",
       "      <td>21</td>\n",
       "      <td>1</td>\n",
       "      <td>3.60</td>\n",
       "      <td>1.04</td>\n",
       "    </tr>\n",
       "    <tr>\n",
       "      <th>1</th>\n",
       "      <td>2b</td>\n",
       "      <td>2</td>\n",
       "      <td>25</td>\n",
       "      <td>21</td>\n",
       "      <td>4</td>\n",
       "      <td>9</td>\n",
       "      <td>2</td>\n",
       "      <td>3.64</td>\n",
       "      <td>0.95</td>\n",
       "    </tr>\n",
       "    <tr>\n",
       "      <th>2</th>\n",
       "      <td>2c</td>\n",
       "      <td>8</td>\n",
       "      <td>32</td>\n",
       "      <td>99</td>\n",
       "      <td>8</td>\n",
       "      <td>27</td>\n",
       "      <td>5</td>\n",
       "      <td>2.29</td>\n",
       "      <td>1.88</td>\n",
       "    </tr>\n",
       "    <tr>\n",
       "      <th>3</th>\n",
       "      <td>2d</td>\n",
       "      <td>6</td>\n",
       "      <td>29</td>\n",
       "      <td>40</td>\n",
       "      <td>4</td>\n",
       "      <td>8</td>\n",
       "      <td>2</td>\n",
       "      <td>2.68</td>\n",
       "      <td>1.50</td>\n",
       "    </tr>\n",
       "    <tr>\n",
       "      <th>4</th>\n",
       "      <td>2e</td>\n",
       "      <td>1</td>\n",
       "      <td>6</td>\n",
       "      <td>29</td>\n",
       "      <td>3</td>\n",
       "      <td>6</td>\n",
       "      <td>1</td>\n",
       "      <td>2.33</td>\n",
       "      <td>0.87</td>\n",
       "    </tr>\n",
       "  </tbody>\n",
       "</table>\n",
       "</div>"
      ],
      "text/plain": [
       "  team  m_experimental_testing  m_making_design_choices  m_asking_questions  \\\n",
       "0   2a                      10                       21                  54   \n",
       "1   2b                       2                       25                  21   \n",
       "2   2c                       8                       32                  99   \n",
       "3   2d                       6                       29                  40   \n",
       "4   2e                       1                        6                  29   \n",
       "\n",
       "   j_customer_consultants_requests  j_performance_parameters_requirements  \\\n",
       "0                                2                                     21   \n",
       "1                                4                                      9   \n",
       "2                                8                                     27   \n",
       "3                                4                                      8   \n",
       "4                                3                                      6   \n",
       "\n",
       "   j_communication  avgScore   std  \n",
       "0                1      3.60  1.04  \n",
       "1                2      3.64  0.95  \n",
       "2                5      2.29  1.88  \n",
       "3                2      2.68  1.50  \n",
       "4                1      2.33  0.87  "
      ]
     },
     "execution_count": 9,
     "metadata": {},
     "output_type": "execute_result"
    }
   ],
   "source": [
    "team_df = team_level_df.drop(['userIDs','OutcomeScore','group_id'],axis=1)\n",
    "team_df = team_df.groupby(['team'], axis=0, as_index=False).sum()\n",
    "\n",
    "avgScore = []\n",
    "std = []\n",
    "for team in team_level_df['team'].unique():\n",
    "    tempdf = team_level_df[team_level_df['team'] == team]\n",
    "    avgScore.append(np.round(tempdf['OutcomeScore'].mean(),2))\n",
    "    std.append(np.round(tempdf['OutcomeScore'].std(),2))\n",
    "\n",
    "team_df['avgScore'] = avgScore\n",
    "team_df['std'] = std\n",
    "\n",
    "team_df.head()"
   ]
  },
  {
   "cell_type": "markdown",
   "metadata": {},
   "source": [
    "Looking at group and implementation team-level statistics is fairly unremarkable. Avg scores are roughly the same and so is standard deviation. However, when looking at teams there is a bit more variance. Team 4k scored highest with an average of 5.8 and 5k got lowest with 1.97. Let's take a closer look at these."
   ]
  },
  {
   "cell_type": "code",
   "execution_count": 10,
   "metadata": {},
   "outputs": [
    {
     "data": {
      "text/html": [
       "<div>\n",
       "<style scoped>\n",
       "    .dataframe tbody tr th:only-of-type {\n",
       "        vertical-align: middle;\n",
       "    }\n",
       "\n",
       "    .dataframe tbody tr th {\n",
       "        vertical-align: top;\n",
       "    }\n",
       "\n",
       "    .dataframe thead th {\n",
       "        text-align: right;\n",
       "    }\n",
       "</style>\n",
       "<table border=\"1\" class=\"dataframe\">\n",
       "  <thead>\n",
       "    <tr style=\"text-align: right;\">\n",
       "      <th></th>\n",
       "      <th>team</th>\n",
       "      <th>m_experimental_testing</th>\n",
       "      <th>m_making_design_choices</th>\n",
       "      <th>m_asking_questions</th>\n",
       "      <th>j_customer_consultants_requests</th>\n",
       "      <th>j_performance_parameters_requirements</th>\n",
       "      <th>j_communication</th>\n",
       "      <th>avgScore</th>\n",
       "      <th>std</th>\n",
       "    </tr>\n",
       "  </thead>\n",
       "  <tbody>\n",
       "    <tr>\n",
       "      <th>40</th>\n",
       "      <td>4k</td>\n",
       "      <td>6</td>\n",
       "      <td>28</td>\n",
       "      <td>26</td>\n",
       "      <td>4</td>\n",
       "      <td>11</td>\n",
       "      <td>0</td>\n",
       "      <td>5.8</td>\n",
       "      <td>0.97</td>\n",
       "    </tr>\n",
       "  </tbody>\n",
       "</table>\n",
       "</div>"
      ],
      "text/plain": [
       "   team  m_experimental_testing  m_making_design_choices  m_asking_questions  \\\n",
       "40   4k                       6                       28                  26   \n",
       "\n",
       "    j_customer_consultants_requests  j_performance_parameters_requirements  \\\n",
       "40                                4                                     11   \n",
       "\n",
       "    j_communication  avgScore   std  \n",
       "40                0       5.8  0.97  "
      ]
     },
     "execution_count": 10,
     "metadata": {},
     "output_type": "execute_result"
    }
   ],
   "source": [
    "team_df[team_df['team']=='4k']"
   ]
  },
  {
   "cell_type": "code",
   "execution_count": 11,
   "metadata": {},
   "outputs": [
    {
     "data": {
      "text/html": [
       "<div>\n",
       "<style scoped>\n",
       "    .dataframe tbody tr th:only-of-type {\n",
       "        vertical-align: middle;\n",
       "    }\n",
       "\n",
       "    .dataframe tbody tr th {\n",
       "        vertical-align: top;\n",
       "    }\n",
       "\n",
       "    .dataframe thead th {\n",
       "        text-align: right;\n",
       "    }\n",
       "</style>\n",
       "<table border=\"1\" class=\"dataframe\">\n",
       "  <thead>\n",
       "    <tr style=\"text-align: right;\">\n",
       "      <th></th>\n",
       "      <th>team</th>\n",
       "      <th>m_experimental_testing</th>\n",
       "      <th>m_making_design_choices</th>\n",
       "      <th>m_asking_questions</th>\n",
       "      <th>j_customer_consultants_requests</th>\n",
       "      <th>j_performance_parameters_requirements</th>\n",
       "      <th>j_communication</th>\n",
       "      <th>avgScore</th>\n",
       "      <th>std</th>\n",
       "    </tr>\n",
       "  </thead>\n",
       "  <tbody>\n",
       "    <tr>\n",
       "      <th>55</th>\n",
       "      <td>5k</td>\n",
       "      <td>1</td>\n",
       "      <td>26</td>\n",
       "      <td>29</td>\n",
       "      <td>3</td>\n",
       "      <td>11</td>\n",
       "      <td>0</td>\n",
       "      <td>1.97</td>\n",
       "      <td>1.44</td>\n",
       "    </tr>\n",
       "  </tbody>\n",
       "</table>\n",
       "</div>"
      ],
      "text/plain": [
       "   team  m_experimental_testing  m_making_design_choices  m_asking_questions  \\\n",
       "55   5k                       1                       26                  29   \n",
       "\n",
       "    j_customer_consultants_requests  j_performance_parameters_requirements  \\\n",
       "55                                3                                     11   \n",
       "\n",
       "    j_communication  avgScore   std  \n",
       "55                0      1.97  1.44  "
      ]
     },
     "execution_count": 11,
     "metadata": {},
     "output_type": "execute_result"
    }
   ],
   "source": [
    "team_df[team_df['team']=='5k']"
   ]
  },
  {
   "cell_type": "markdown",
   "metadata": {},
   "source": [
    "Most features don't lend much information immediately as they are similar but the one difference is that team 4k has 4 more messages relating to 'experimental testing'. This could hint at team 5k not being as rigorous with their testing, or it could simply be a coincidence "
   ]
  },
  {
   "cell_type": "markdown",
   "metadata": {},
   "source": [
    "## Models for team level statistics"
   ]
  },
  {
   "cell_type": "markdown",
   "metadata": {},
   "source": [
    "Models will only be tested on true teams due to lack of data points in the other 2 data frames"
   ]
  },
  {
   "cell_type": "code",
   "execution_count": 12,
   "metadata": {},
   "outputs": [],
   "source": [
    "X = team_df.drop(['avgScore','std','team'],axis=1)\n",
    "y = team_df['avgScore']"
   ]
  },
  {
   "cell_type": "markdown",
   "metadata": {},
   "source": [
    "### Linear regression:"
   ]
  },
  {
   "cell_type": "code",
   "execution_count": 13,
   "metadata": {},
   "outputs": [],
   "source": [
    "from sklearn.model_selection import train_test_split\n",
    "from sklearn.linear_model import LinearRegression\n",
    "from sklearn.metrics import r2_score, accuracy_score"
   ]
  },
  {
   "cell_type": "code",
   "execution_count": 14,
   "metadata": {},
   "outputs": [
    {
     "name": "stdout",
     "output_type": "stream",
     "text": [
      "Training score is 0.629\n"
     ]
    }
   ],
   "source": [
    "X_train, X_test, y_train, y_test = train_test_split(X, y, test_size=0.8, random_state=123) # Create training, testing split\n",
    "lr = LinearRegression() # Instatiate the model\n",
    "lr = lr.fit(X_train, y_train) # Fit the model\n",
    "\n",
    "training_score = lr.score(X_train,y_train)\n",
    "\n",
    "print(\"Training score is\",round(training_score,4))"
   ]
  },
  {
   "cell_type": "markdown",
   "metadata": {},
   "source": [
    "### Decision tree classifiers:"
   ]
  },
  {
   "cell_type": "code",
   "execution_count": 15,
   "metadata": {},
   "outputs": [],
   "source": [
    "from sklearn.tree import DecisionTreeClassifier, plot_tree\n",
    "\n",
    "team_df['avgScore'] = np.round(team_df['avgScore']) # Round all scores to be whole numbers to turn into classification problem\n",
    "X_train, X_test, y_train, y_test = train_test_split(X, y, test_size=0.8, random_state=123) # Split data"
   ]
  },
  {
   "cell_type": "code",
   "execution_count": 16,
   "metadata": {},
   "outputs": [
    {
     "name": "stdout",
     "output_type": "stream",
     "text": [
      "Decision tree accuracy: 0.45\n"
     ]
    },
    {
     "data": {
      "image/png": "[encoded data removed]",
      "text/plain": [
       "<Figure size 720x648 with 1 Axes>"
      ]
     },
     "metadata": {
      "needs_background": "light"
     },
     "output_type": "display_data"
    }
   ],
   "source": [
    "from matplotlib import pyplot as plt\n",
    "\n",
    "team_df_dtc = DecisionTreeClassifier(max_depth = 3, random_state=123)\n",
    "team_df_dtc = team_df_dtc.fit(X_train, y_train)\n",
    "\n",
    "\n",
    "fig, ax = plt.subplots(figsize=(10,9))\n",
    "plot_tree(team_df_dtc,\n",
    "         filled = True,\n",
    "         rounded = True,\n",
    "         class_names = ['1','2','3','4','5','6','7','8'],\n",
    "         feature_names = X.columns);\n",
    "\n",
    "y_pred = team_df_dtc.predict(X_test)\n",
    "print(\"Decision tree accuracy:\", np.round(accuracy_score(y_pred,y_test),2))"
   ]
  },
  {
   "cell_type": "markdown",
   "metadata": {},
   "source": [
    "## Random Forest Classifier"
   ]
  },
  {
   "cell_type": "code",
   "execution_count": 17,
   "metadata": {},
   "outputs": [
    {
     "name": "stdout",
     "output_type": "stream",
     "text": [
      "Accuracy of 50 estimators: 0.4\n",
      "Accuracy of 100 estimators: 0.417\n",
      "Accuracy of 150 estimators: 0.433\n",
      "Accuracy of 200 estimators: 0.417\n"
     ]
    }
   ],
   "source": [
    "from sklearn.ensemble import RandomForestClassifier\n",
    "\n",
    "for i in [50,100,150,200]: # Looping through nunber of estimators to determine the most effective\n",
    "    clf = RandomForestClassifier(n_estimators=i, random_state=123).fit(X_train, y_train)\n",
    "    Y_pred = clf.predict(X_test)\n",
    "    print('Accuracy of {} estimators: {}'.format(i,np.round(accuracy_score(y_test,Y_pred),3)))"
   ]
  },
  {
   "cell_type": "markdown",
   "metadata": {},
   "source": [
    "Now we can calculate feature importance and see if that improves the model"
   ]
  },
  {
   "cell_type": "code",
   "execution_count": 18,
   "metadata": {},
   "outputs": [
    {
     "name": "stdout",
     "output_type": "stream",
     "text": [
      "m_experimental_testing 0.127\n",
      "m_making_design_choices 0.212\n",
      "m_asking_questions 0.169\n",
      "j_customer_consultants_requests 0.096\n",
      "j_performance_parameters_requirements 0.243\n",
      "j_communication 0.155\n"
     ]
    }
   ],
   "source": [
    "clf = RandomForestClassifier(n_estimators=150, random_state=100).fit(X_train, y_train)\n",
    "\n",
    "for name, score in zip(X.columns, clf.feature_importances_):\n",
    "    print(name,np.round(score,3))"
   ]
  },
  {
   "cell_type": "markdown",
   "metadata": {},
   "source": [
    "Remodel using the 2 most important features"
   ]
  },
  {
   "cell_type": "code",
   "execution_count": 19,
   "metadata": {},
   "outputs": [
    {
     "name": "stdout",
     "output_type": "stream",
     "text": [
      "Accuracy: 0.368\n"
     ]
    }
   ],
   "source": [
    "rfcDf = team_df[['j_performance_parameters_requirements','m_making_design_choices','avgScore']] # Only select target and important features\n",
    "\n",
    "X_rfc = rfcDf.drop('avgScore', axis=1)\n",
    "Y_rfc = rfcDf['avgScore']\n",
    "\n",
    "Xrfc_train, Xrfc_test, Yrfc_train, Yrfc_test = train_test_split(X_rfc, Y_rfc, random_state=123)\n",
    "\n",
    "clf = RandomForestClassifier(n_estimators=50, random_state=123).fit(Xrfc_train,Yrfc_train)\n",
    "Yrfc_pred = clf.predict(Xrfc_test)\n",
    "print('Accuracy:', np.round(accuracy_score(Yrfc_test,Yrfc_pred),3))"
   ]
  },
  {
   "cell_type": "markdown",
   "metadata": {},
   "source": [
    "# Uncomment for different approaches\n",
    "Group to look at group id, implementation to look at implementation. True teams are too small to produce meaningful results"
   ]
  },
  {
   "cell_type": "code",
   "execution_count": 20,
   "metadata": {},
   "outputs": [],
   "source": [
    "# # Group:\n",
    "# df = df[df['group_id']==2]\n",
    "\n",
    "# Implementation:\n",
    "# df = df[df['implementation']=='a']\n",
    "\n",
    "# df = df.reset_index()"
   ]
  },
  {
   "cell_type": "markdown",
   "metadata": {},
   "source": [
    "## SVM"
   ]
  },
  {
   "cell_type": "code",
   "execution_count": 21,
   "metadata": {},
   "outputs": [],
   "source": [
    "#Import \n",
    "import matplotlib.pyplot as plt\n",
    "\n",
    "from sklearn.metrics import accuracy_score\n",
    "from sklearn.svm import SVC\n",
    "\n",
    "import warnings\n",
    "warnings.filterwarnings('ignore') # suppress warnings\n",
    "\n",
    "from collections import Counter\n",
    "# import SVM libraries \n",
    "from sklearn.metrics import classification_report, roc_auc_score\n",
    "from imblearn.over_sampling import SMOTE"
   ]
  },
  {
   "cell_type": "code",
   "execution_count": 22,
   "metadata": {},
   "outputs": [],
   "source": [
    "#Import df\n",
    "VI= pd.read_csv('virtualInternshipData_ADS2001.csv', encoding= 'unicode_escape')\n",
    "VI = VI.drop(['Unnamed: 0', 'Line_ID'], axis = 1)"
   ]
  },
  {
   "cell_type": "code",
   "execution_count": 23,
   "metadata": {
    "scrolled": true
   },
   "outputs": [
    {
     "data": {
      "text/html": [
       "<div>\n",
       "<style scoped>\n",
       "    .dataframe tbody tr th:only-of-type {\n",
       "        vertical-align: middle;\n",
       "    }\n",
       "\n",
       "    .dataframe tbody tr th {\n",
       "        vertical-align: top;\n",
       "    }\n",
       "\n",
       "    .dataframe thead th {\n",
       "        text-align: right;\n",
       "    }\n",
       "</style>\n",
       "<table border=\"1\" class=\"dataframe\">\n",
       "  <thead>\n",
       "    <tr style=\"text-align: right;\">\n",
       "      <th></th>\n",
       "      <th>userIDs</th>\n",
       "      <th>implementation</th>\n",
       "      <th>group_id</th>\n",
       "      <th>RoleName</th>\n",
       "      <th>m_experimental_testing</th>\n",
       "      <th>m_making_design_choices</th>\n",
       "      <th>m_asking_questions</th>\n",
       "      <th>j_customer_consultants_requests</th>\n",
       "      <th>j_performance_parameters_requirements</th>\n",
       "      <th>j_communication</th>\n",
       "      <th>OutcomeScore</th>\n",
       "      <th>wordCount</th>\n",
       "    </tr>\n",
       "  </thead>\n",
       "  <tbody>\n",
       "    <tr>\n",
       "      <th>391</th>\n",
       "      <td>14</td>\n",
       "      <td>a</td>\n",
       "      <td>3</td>\n",
       "      <td>Player</td>\n",
       "      <td>0</td>\n",
       "      <td>0</td>\n",
       "      <td>0</td>\n",
       "      <td>0</td>\n",
       "      <td>0</td>\n",
       "      <td>0</td>\n",
       "      <td>2</td>\n",
       "      <td>1</td>\n",
       "    </tr>\n",
       "    <tr>\n",
       "      <th>392</th>\n",
       "      <td>11</td>\n",
       "      <td>a</td>\n",
       "      <td>3</td>\n",
       "      <td>Player</td>\n",
       "      <td>0</td>\n",
       "      <td>0</td>\n",
       "      <td>0</td>\n",
       "      <td>0</td>\n",
       "      <td>1</td>\n",
       "      <td>0</td>\n",
       "      <td>4</td>\n",
       "      <td>17</td>\n",
       "    </tr>\n",
       "  </tbody>\n",
       "</table>\n",
       "</div>"
      ],
      "text/plain": [
       "     userIDs implementation  group_id RoleName  m_experimental_testing  \\\n",
       "391       14              a         3   Player                       0   \n",
       "392       11              a         3   Player                       0   \n",
       "\n",
       "     m_making_design_choices  m_asking_questions  \\\n",
       "391                        0                   0   \n",
       "392                        0                   0   \n",
       "\n",
       "     j_customer_consultants_requests  j_performance_parameters_requirements  \\\n",
       "391                                0                                      0   \n",
       "392                                0                                      1   \n",
       "\n",
       "     j_communication  OutcomeScore  wordCount  \n",
       "391                0             2          1  \n",
       "392                0             4         17  "
      ]
     },
     "execution_count": 23,
     "metadata": {},
     "output_type": "execute_result"
    }
   ],
   "source": [
    "#drop the unnecessary variables\n",
    "VI_new = VI.head(393)\n",
    "VI_new = VI_new.drop(['ChatGroup', 'roomName', 'content'], axis = 1) #group_id required for team level statistics\n",
    "VI_new.tail(2)"
   ]
  },
  {
   "cell_type": "code",
   "execution_count": 24,
   "metadata": {},
   "outputs": [],
   "source": [
    "#to avoid warnings\n",
    "pd.set_option('mode.chained_assignment', None)"
   ]
  },
  {
   "cell_type": "code",
   "execution_count": 25,
   "metadata": {},
   "outputs": [],
   "source": [
    "# #For visualisation only \n",
    "# VI_new['m_experimental_testing'] = VI['m_experimental_testing'].astype('float64')\n",
    "# VI_new['m_making_design_choices'] = VI['m_making_design_choices'].astype('float64')\n",
    "# VI_new['m_asking_questions'] =  VI['m_asking_questions'].astype('float64')\n",
    "# VI_new['j_customer_consultants_requests'] = VI['j_customer_consultants_requests'].astype('float64')\n",
    "# VI_new['j_performance_parameters_requirements'] = VI['j_performance_parameters_requirements'].astype('float64')\n",
    "# VI_new['j_communication'] = VI['j_communication'].astype('float64')"
   ]
  },
  {
   "cell_type": "code",
   "execution_count": 26,
   "metadata": {},
   "outputs": [
    {
     "data": {
      "text/html": [
       "<div>\n",
       "<style scoped>\n",
       "    .dataframe tbody tr th:only-of-type {\n",
       "        vertical-align: middle;\n",
       "    }\n",
       "\n",
       "    .dataframe tbody tr th {\n",
       "        vertical-align: top;\n",
       "    }\n",
       "\n",
       "    .dataframe thead th {\n",
       "        text-align: right;\n",
       "    }\n",
       "</style>\n",
       "<table border=\"1\" class=\"dataframe\">\n",
       "  <thead>\n",
       "    <tr style=\"text-align: right;\">\n",
       "      <th></th>\n",
       "      <th>userIDs</th>\n",
       "      <th>implementation</th>\n",
       "      <th>group_id</th>\n",
       "      <th>RoleName</th>\n",
       "      <th>m_experimental_testing</th>\n",
       "      <th>m_making_design_choices</th>\n",
       "      <th>m_asking_questions</th>\n",
       "      <th>j_customer_consultants_requests</th>\n",
       "      <th>j_performance_parameters_requirements</th>\n",
       "      <th>j_communication</th>\n",
       "      <th>OutcomeScore</th>\n",
       "      <th>wordCount</th>\n",
       "    </tr>\n",
       "  </thead>\n",
       "  <tbody>\n",
       "    <tr>\n",
       "      <th>0</th>\n",
       "      <td>1</td>\n",
       "      <td>a</td>\n",
       "      <td>2</td>\n",
       "      <td>Mentor</td>\n",
       "      <td>3</td>\n",
       "      <td>26</td>\n",
       "      <td>30</td>\n",
       "      <td>3</td>\n",
       "      <td>6</td>\n",
       "      <td>19</td>\n",
       "      <td>4</td>\n",
       "      <td>5</td>\n",
       "    </tr>\n",
       "    <tr>\n",
       "      <th>1</th>\n",
       "      <td>2</td>\n",
       "      <td>a</td>\n",
       "      <td>2</td>\n",
       "      <td>Player</td>\n",
       "      <td>2</td>\n",
       "      <td>4</td>\n",
       "      <td>17</td>\n",
       "      <td>0</td>\n",
       "      <td>4</td>\n",
       "      <td>0</td>\n",
       "      <td>4</td>\n",
       "      <td>11</td>\n",
       "    </tr>\n",
       "    <tr>\n",
       "      <th>2</th>\n",
       "      <td>3</td>\n",
       "      <td>a</td>\n",
       "      <td>2</td>\n",
       "      <td>Player</td>\n",
       "      <td>1</td>\n",
       "      <td>4</td>\n",
       "      <td>3</td>\n",
       "      <td>0</td>\n",
       "      <td>1</td>\n",
       "      <td>0</td>\n",
       "      <td>4</td>\n",
       "      <td>9</td>\n",
       "    </tr>\n",
       "    <tr>\n",
       "      <th>3</th>\n",
       "      <td>4</td>\n",
       "      <td>a</td>\n",
       "      <td>2</td>\n",
       "      <td>Player</td>\n",
       "      <td>2</td>\n",
       "      <td>2</td>\n",
       "      <td>3</td>\n",
       "      <td>1</td>\n",
       "      <td>5</td>\n",
       "      <td>0</td>\n",
       "      <td>4</td>\n",
       "      <td>51</td>\n",
       "    </tr>\n",
       "    <tr>\n",
       "      <th>4</th>\n",
       "      <td>5</td>\n",
       "      <td>a</td>\n",
       "      <td>2</td>\n",
       "      <td>Player</td>\n",
       "      <td>0</td>\n",
       "      <td>0</td>\n",
       "      <td>6</td>\n",
       "      <td>0</td>\n",
       "      <td>2</td>\n",
       "      <td>0</td>\n",
       "      <td>2</td>\n",
       "      <td>39</td>\n",
       "    </tr>\n",
       "  </tbody>\n",
       "</table>\n",
       "</div>"
      ],
      "text/plain": [
       "   userIDs implementation  group_id RoleName  m_experimental_testing  \\\n",
       "0        1              a         2   Mentor                       3   \n",
       "1        2              a         2   Player                       2   \n",
       "2        3              a         2   Player                       1   \n",
       "3        4              a         2   Player                       2   \n",
       "4        5              a         2   Player                       0   \n",
       "\n",
       "   m_making_design_choices  m_asking_questions  \\\n",
       "0                       26                  30   \n",
       "1                        4                  17   \n",
       "2                        4                   3   \n",
       "3                        2                   3   \n",
       "4                        0                   6   \n",
       "\n",
       "   j_customer_consultants_requests  j_performance_parameters_requirements  \\\n",
       "0                                3                                      6   \n",
       "1                                0                                      4   \n",
       "2                                0                                      1   \n",
       "3                                1                                      5   \n",
       "4                                0                                      2   \n",
       "\n",
       "   j_communication  OutcomeScore  wordCount  \n",
       "0               19             4          5  \n",
       "1                0             4         11  \n",
       "2                0             4          9  \n",
       "3                0             4         51  \n",
       "4                0             2         39  "
      ]
     },
     "execution_count": 26,
     "metadata": {},
     "output_type": "execute_result"
    }
   ],
   "source": [
    "#sum of score, word count, (etc) of a user. To easily do team level stat\n",
    "for i in range(0,393): #0-392, 1-393\n",
    "    VI_new['userIDs'][i] = i + 1 #user_id = 1+ row index\n",
    "    \n",
    "    #Setting the values of scores to 0\n",
    "    VI_new['m_experimental_testing'][i] = 0\n",
    "    VI_new['m_making_design_choices'][i] = 0\n",
    "    VI_new['m_asking_questions'][i] = 0\n",
    "    VI_new['j_customer_consultants_requests'][i] = 0\n",
    "    VI_new['j_performance_parameters_requirements'][i] = 0\n",
    "    VI_new['j_communication'][i] = 0\n",
    "    \n",
    "    set_up_done = False\n",
    "    for j in range(0, 19180):\n",
    "        \n",
    "        if VI['userIDs'][j] == i + 1: #if user id matches\n",
    "            if set_up_done == False:\n",
    "                VI_new['group_id'][i] = VI['group_id'][j]\n",
    "                VI_new['RoleName'][i] = VI['RoleName'][j]\n",
    "                VI_new['OutcomeScore'][i] = VI['OutcomeScore'][j]\n",
    "                VI_new['implementation'][i] = VI['implementation'][j]\n",
    "                set_up_done = True\n",
    "              \n",
    "            VI_new['m_experimental_testing'][i] += VI['m_experimental_testing'][j]\n",
    "            VI_new['m_making_design_choices'][i] += VI['m_making_design_choices'][j]\n",
    "            VI_new['m_asking_questions'][i] +=  VI['m_asking_questions'][j]\n",
    "            VI_new['j_customer_consultants_requests'][i] += VI['j_customer_consultants_requests'][j]\n",
    "            VI_new['j_performance_parameters_requirements'][i] += VI['j_performance_parameters_requirements'][j]\n",
    "            VI_new['j_communication'][i] += VI['j_communication'][j] \n",
    "    \n",
    "VI_new.head()"
   ]
  },
  {
   "cell_type": "code",
   "execution_count": 27,
   "metadata": {},
   "outputs": [],
   "source": [
    "# #For visualisation only\n",
    "# #Divide the score of the user ID by the number of lines written by the user.\n",
    "# for i in range(1,394):\n",
    "#     n = len(VI[VI['userIDs'] == i])\n",
    "#     if n == 0:\n",
    "#         continue\n",
    "#     VI_new['m_experimental_testing'][i-1] = VI_new['m_experimental_testing'][i-1]/n\n",
    "#     VI_new['m_making_design_choices'][i-1] = VI_new['m_making_design_choices'][i-1]/n\n",
    "#     VI_new['m_asking_questions'][i-1] = VI_new['m_asking_questions'][i-1]/n\n",
    "#     VI_new['j_customer_consultants_requests'][i-1] = VI_new['j_customer_consultants_requests'][i-1]/n\n",
    "#     VI_new['j_performance_parameters_requirements'][i-1] = VI_new['j_performance_parameters_requirements'][i-1]/n\n",
    "#     VI_new['j_communication'][i-1] = VI_new['j_communication'][i-1]/n"
   ]
  },
  {
   "cell_type": "code",
   "execution_count": 28,
   "metadata": {},
   "outputs": [
    {
     "data": {
      "text/html": [
       "<div>\n",
       "<style scoped>\n",
       "    .dataframe tbody tr th:only-of-type {\n",
       "        vertical-align: middle;\n",
       "    }\n",
       "\n",
       "    .dataframe tbody tr th {\n",
       "        vertical-align: top;\n",
       "    }\n",
       "\n",
       "    .dataframe thead th {\n",
       "        text-align: right;\n",
       "    }\n",
       "</style>\n",
       "<table border=\"1\" class=\"dataframe\">\n",
       "  <thead>\n",
       "    <tr style=\"text-align: right;\">\n",
       "      <th></th>\n",
       "      <th>userIDs</th>\n",
       "      <th>implementation</th>\n",
       "      <th>group_id</th>\n",
       "      <th>RoleName</th>\n",
       "      <th>m_experimental_testing</th>\n",
       "      <th>m_making_design_choices</th>\n",
       "      <th>m_asking_questions</th>\n",
       "      <th>j_customer_consultants_requests</th>\n",
       "      <th>j_performance_parameters_requirements</th>\n",
       "      <th>j_communication</th>\n",
       "      <th>OutcomeScore</th>\n",
       "      <th>wordCount</th>\n",
       "    </tr>\n",
       "  </thead>\n",
       "  <tbody>\n",
       "    <tr>\n",
       "      <th>0</th>\n",
       "      <td>1</td>\n",
       "      <td>a</td>\n",
       "      <td>2</td>\n",
       "      <td>Mentor</td>\n",
       "      <td>3</td>\n",
       "      <td>26</td>\n",
       "      <td>30</td>\n",
       "      <td>3</td>\n",
       "      <td>6</td>\n",
       "      <td>19</td>\n",
       "      <td>4</td>\n",
       "      <td>5</td>\n",
       "    </tr>\n",
       "    <tr>\n",
       "      <th>1</th>\n",
       "      <td>2</td>\n",
       "      <td>a</td>\n",
       "      <td>2</td>\n",
       "      <td>Player</td>\n",
       "      <td>2</td>\n",
       "      <td>4</td>\n",
       "      <td>17</td>\n",
       "      <td>0</td>\n",
       "      <td>4</td>\n",
       "      <td>0</td>\n",
       "      <td>4</td>\n",
       "      <td>11</td>\n",
       "    </tr>\n",
       "    <tr>\n",
       "      <th>2</th>\n",
       "      <td>3</td>\n",
       "      <td>a</td>\n",
       "      <td>2</td>\n",
       "      <td>Player</td>\n",
       "      <td>1</td>\n",
       "      <td>4</td>\n",
       "      <td>3</td>\n",
       "      <td>0</td>\n",
       "      <td>1</td>\n",
       "      <td>0</td>\n",
       "      <td>4</td>\n",
       "      <td>9</td>\n",
       "    </tr>\n",
       "    <tr>\n",
       "      <th>3</th>\n",
       "      <td>4</td>\n",
       "      <td>a</td>\n",
       "      <td>2</td>\n",
       "      <td>Player</td>\n",
       "      <td>2</td>\n",
       "      <td>2</td>\n",
       "      <td>3</td>\n",
       "      <td>1</td>\n",
       "      <td>5</td>\n",
       "      <td>0</td>\n",
       "      <td>4</td>\n",
       "      <td>51</td>\n",
       "    </tr>\n",
       "    <tr>\n",
       "      <th>4</th>\n",
       "      <td>5</td>\n",
       "      <td>a</td>\n",
       "      <td>2</td>\n",
       "      <td>Player</td>\n",
       "      <td>0</td>\n",
       "      <td>0</td>\n",
       "      <td>6</td>\n",
       "      <td>0</td>\n",
       "      <td>2</td>\n",
       "      <td>0</td>\n",
       "      <td>2</td>\n",
       "      <td>39</td>\n",
       "    </tr>\n",
       "    <tr>\n",
       "      <th>...</th>\n",
       "      <td>...</td>\n",
       "      <td>...</td>\n",
       "      <td>...</td>\n",
       "      <td>...</td>\n",
       "      <td>...</td>\n",
       "      <td>...</td>\n",
       "      <td>...</td>\n",
       "      <td>...</td>\n",
       "      <td>...</td>\n",
       "      <td>...</td>\n",
       "      <td>...</td>\n",
       "      <td>...</td>\n",
       "    </tr>\n",
       "    <tr>\n",
       "      <th>388</th>\n",
       "      <td>389</td>\n",
       "      <td>o</td>\n",
       "      <td>6</td>\n",
       "      <td>Player</td>\n",
       "      <td>2</td>\n",
       "      <td>8</td>\n",
       "      <td>4</td>\n",
       "      <td>1</td>\n",
       "      <td>7</td>\n",
       "      <td>0</td>\n",
       "      <td>7</td>\n",
       "      <td>37</td>\n",
       "    </tr>\n",
       "    <tr>\n",
       "      <th>389</th>\n",
       "      <td>390</td>\n",
       "      <td>o</td>\n",
       "      <td>6</td>\n",
       "      <td>Player</td>\n",
       "      <td>0</td>\n",
       "      <td>5</td>\n",
       "      <td>6</td>\n",
       "      <td>1</td>\n",
       "      <td>2</td>\n",
       "      <td>0</td>\n",
       "      <td>4</td>\n",
       "      <td>37</td>\n",
       "    </tr>\n",
       "    <tr>\n",
       "      <th>390</th>\n",
       "      <td>391</td>\n",
       "      <td>o</td>\n",
       "      <td>6</td>\n",
       "      <td>Player</td>\n",
       "      <td>2</td>\n",
       "      <td>3</td>\n",
       "      <td>11</td>\n",
       "      <td>1</td>\n",
       "      <td>4</td>\n",
       "      <td>0</td>\n",
       "      <td>5</td>\n",
       "      <td>20</td>\n",
       "    </tr>\n",
       "    <tr>\n",
       "      <th>391</th>\n",
       "      <td>392</td>\n",
       "      <td>o</td>\n",
       "      <td>6</td>\n",
       "      <td>Player</td>\n",
       "      <td>2</td>\n",
       "      <td>4</td>\n",
       "      <td>4</td>\n",
       "      <td>0</td>\n",
       "      <td>2</td>\n",
       "      <td>0</td>\n",
       "      <td>5</td>\n",
       "      <td>1</td>\n",
       "    </tr>\n",
       "    <tr>\n",
       "      <th>392</th>\n",
       "      <td>393</td>\n",
       "      <td>o</td>\n",
       "      <td>6</td>\n",
       "      <td>Player</td>\n",
       "      <td>5</td>\n",
       "      <td>6</td>\n",
       "      <td>8</td>\n",
       "      <td>1</td>\n",
       "      <td>7</td>\n",
       "      <td>0</td>\n",
       "      <td>4</td>\n",
       "      <td>17</td>\n",
       "    </tr>\n",
       "  </tbody>\n",
       "</table>\n",
       "<p>393 rows × 12 columns</p>\n",
       "</div>"
      ],
      "text/plain": [
       "     userIDs implementation  group_id RoleName  m_experimental_testing  \\\n",
       "0          1              a         2   Mentor                       3   \n",
       "1          2              a         2   Player                       2   \n",
       "2          3              a         2   Player                       1   \n",
       "3          4              a         2   Player                       2   \n",
       "4          5              a         2   Player                       0   \n",
       "..       ...            ...       ...      ...                     ...   \n",
       "388      389              o         6   Player                       2   \n",
       "389      390              o         6   Player                       0   \n",
       "390      391              o         6   Player                       2   \n",
       "391      392              o         6   Player                       2   \n",
       "392      393              o         6   Player                       5   \n",
       "\n",
       "     m_making_design_choices  m_asking_questions  \\\n",
       "0                         26                  30   \n",
       "1                          4                  17   \n",
       "2                          4                   3   \n",
       "3                          2                   3   \n",
       "4                          0                   6   \n",
       "..                       ...                 ...   \n",
       "388                        8                   4   \n",
       "389                        5                   6   \n",
       "390                        3                  11   \n",
       "391                        4                   4   \n",
       "392                        6                   8   \n",
       "\n",
       "     j_customer_consultants_requests  j_performance_parameters_requirements  \\\n",
       "0                                  3                                      6   \n",
       "1                                  0                                      4   \n",
       "2                                  0                                      1   \n",
       "3                                  1                                      5   \n",
       "4                                  0                                      2   \n",
       "..                               ...                                    ...   \n",
       "388                                1                                      7   \n",
       "389                                1                                      2   \n",
       "390                                1                                      4   \n",
       "391                                0                                      2   \n",
       "392                                1                                      7   \n",
       "\n",
       "     j_communication  OutcomeScore  wordCount  \n",
       "0                 19             4          5  \n",
       "1                  0             4         11  \n",
       "2                  0             4          9  \n",
       "3                  0             4         51  \n",
       "4                  0             2         39  \n",
       "..               ...           ...        ...  \n",
       "388                0             7         37  \n",
       "389                0             4         37  \n",
       "390                0             5         20  \n",
       "391                0             5          1  \n",
       "392                0             4         17  \n",
       "\n",
       "[393 rows x 12 columns]"
      ]
     },
     "execution_count": 28,
     "metadata": {},
     "output_type": "execute_result"
    }
   ],
   "source": [
    "VI = VI_new\n",
    "VI"
   ]
  },
  {
   "cell_type": "code",
   "execution_count": 29,
   "metadata": {},
   "outputs": [],
   "source": [
    "#define the explanatory and target variable\n",
    "X = VI[['m_experimental_testing', 'm_making_design_choices', 'm_asking_questions', 'j_customer_consultants_requests', 'j_performance_parameters_requirements', 'j_communication']]\n",
    "Y = VI['OutcomeScore']"
   ]
  },
  {
   "cell_type": "code",
   "execution_count": 30,
   "metadata": {},
   "outputs": [],
   "source": [
    "#split into training and testing set\n",
    "X_train,X_test,Y_train,Y_test=train_test_split(X,Y,train_size=0.7,random_state=0) "
   ]
  },
  {
   "cell_type": "code",
   "execution_count": 31,
   "metadata": {},
   "outputs": [
    {
     "name": "stdout",
     "output_type": "stream",
     "text": [
      "Before oversampling:  Counter({4: 96, 2: 41, 5: 38, 3: 36, 6: 24, 1: 19, 0: 16, 7: 4, 8: 1})\n"
     ]
    },
    {
     "data": {
      "text/plain": [
       "0.331"
      ]
     },
     "execution_count": 31,
     "metadata": {},
     "output_type": "execute_result"
    }
   ],
   "source": [
    "#balance the dataset\n",
    "X_1 = VI[VI.drop(columns = ['userIDs','implementation','group_id','RoleName','OutcomeScore', 'wordCount']).columns]\n",
    "from imblearn.over_sampling import SMOTE\n",
    "# summarize class distribution\n",
    "print(\"Before oversampling: \",Counter(Y_train))\n",
    "\n",
    "# define oversampling strategy\n",
    "SMOTE = SMOTE(k_neighbors=1, random_state = 0)\n",
    "\n",
    "X_over, y_over = SMOTE.fit_resample(X_1, Y)\n",
    "model=SVC()\n",
    "clf_SMOTE = model.fit(X_over, y_over)\n",
    "pred_SMOTE = clf_SMOTE.predict(X_test)\n",
    "\n",
    "accuracy = np.round(accuracy_score(Y_test, pred_SMOTE),3) # calculate the accuracy score\n",
    "accuracy"
   ]
  },
  {
   "cell_type": "code",
   "execution_count": 32,
   "metadata": {},
   "outputs": [
    {
     "data": {
      "text/plain": [
       "<AxesSubplot:title={'center':'Outcome score count after over sampling'}>"
      ]
     },
     "execution_count": 32,
     "metadata": {},
     "output_type": "execute_result"
    },
    {
     "data": {
      "image/png": "[encoded data removed]",
      "text/plain": [
       "<Figure size 432x288 with 1 Axes>"
      ]
     },
     "metadata": {
      "needs_background": "light"
     },
     "output_type": "display_data"
    }
   ],
   "source": [
    "#plot the balanced dataset\n",
    "outcome_score_count = y_over.value_counts()\n",
    "outcome_score_count.plot(kind = 'bar', title = 'Outcome score count after over sampling')"
   ]
  },
  {
   "cell_type": "code",
   "execution_count": 33,
   "metadata": {},
   "outputs": [
    {
     "data": {
      "text/plain": [
       "{'C': 1.0,\n",
       " 'break_ties': False,\n",
       " 'cache_size': 200,\n",
       " 'class_weight': None,\n",
       " 'coef0': 0.0,\n",
       " 'decision_function_shape': 'ovr',\n",
       " 'degree': 3,\n",
       " 'gamma': 'scale',\n",
       " 'kernel': 'rbf',\n",
       " 'max_iter': -1,\n",
       " 'probability': False,\n",
       " 'random_state': None,\n",
       " 'shrinking': True,\n",
       " 'tol': 0.001,\n",
       " 'verbose': False}"
      ]
     },
     "execution_count": 33,
     "metadata": {},
     "output_type": "execute_result"
    }
   ],
   "source": [
    "#get parameters used in the 'model'\n",
    "model.get_params()"
   ]
  },
  {
   "cell_type": "code",
   "execution_count": 34,
   "metadata": {},
   "outputs": [
    {
     "name": "stdout",
     "output_type": "stream",
     "text": [
      "0.932\n"
     ]
    }
   ],
   "source": [
    "#Model after hyperparameter tuning\n",
    "model=SVC(kernel = 'poly', degree =6 , coef0 = 11, C = 1.0, gamma = 0.2) \n",
    "clf_SMOTE = model.fit(X_over, y_over) #balanced\n",
    "pred_SMOTE = clf_SMOTE.predict(X_test) #unbalanced\n",
    "\n",
    "accuracy = np.round(accuracy_score(Y_test, pred_SMOTE),3) # calculate the accuracy score\n",
    "print(accuracy)\n"
   ]
  },
  {
   "cell_type": "code",
   "execution_count": 35,
   "metadata": {},
   "outputs": [
    {
     "name": "stdout",
     "output_type": "stream",
     "text": [
      "0.73 accuracy with a standard deviation of 0.01\n"
     ]
    }
   ],
   "source": [
    "#cross validation score\n",
    "from sklearn.model_selection import RepeatedStratifiedKFold\n",
    "from sklearn.model_selection import cross_val_score\n",
    "cv = RepeatedStratifiedKFold(n_splits=5, n_repeats=3, random_state=1)\n",
    "scores = cross_val_score(model, X_over, y_over, cv=cv) #unbalanced\n",
    "print(\"%0.2f accuracy with a standard deviation of %0.2f\" % (scores.mean(), scores.std()))"
   ]
  },
  {
   "cell_type": "markdown",
   "metadata": {},
   "source": [
    "### Feature selection"
   ]
  },
  {
   "cell_type": "code",
   "execution_count": 36,
   "metadata": {},
   "outputs": [
    {
     "name": "stdout",
     "output_type": "stream",
     "text": [
      "                                   Specs      Score\n",
      "5                        j_communication  77.998685\n",
      "2                     m_asking_questions  31.401402\n",
      "0                 m_experimental_testing  24.119171\n",
      "1                m_making_design_choices  18.260145\n",
      "4  j_performance_parameters_requirements   8.807408\n",
      "3        j_customer_consultants_requests   7.564784\n"
     ]
    }
   ],
   "source": [
    "from sklearn.feature_selection import SelectKBest\n",
    "from sklearn.feature_selection import chi2\n",
    "\n",
    "#apply SelectKBest class to extract top 10 best features\n",
    "bestfeatures = SelectKBest(score_func=chi2, k=6)\n",
    "fit = bestfeatures.fit(X[0:100],Y[0:100])\n",
    "dfscores = pd.DataFrame(fit.scores_)\n",
    "dfcolumns = pd.DataFrame(X.columns)\n",
    "\n",
    "#concat two dataframes for better visualization \n",
    "featureScores = pd.concat([dfcolumns,dfscores],axis=1)\n",
    "featureScores.columns = ['Specs','Score']  #naming the dataframe columns\n",
    "print(featureScores.nlargest(10,'Score'))  #print 10 best features"
   ]
  },
  {
   "cell_type": "code",
   "execution_count": 37,
   "metadata": {},
   "outputs": [
    {
     "name": "stdout",
     "output_type": "stream",
     "text": [
      "0.915\n"
     ]
    }
   ],
   "source": [
    "#drop the worst feature and run the model.\n",
    "model=SVC(kernel = 'poly', degree =6 , coef0 = 11, C = 1.0, gamma = 0.2) \n",
    "clf_SMOTE = model.fit(X_over.drop('j_customer_consultants_requests' , axis = 1), y_over) #balanced\n",
    "pred_SMOTE = clf_SMOTE.predict(X_test.drop('j_customer_consultants_requests' , axis = 1)) #unbalanced\n",
    "\n",
    "accuracy = np.round(accuracy_score(Y_test, pred_SMOTE),3) # calculate the accuracy score\n",
    "print(accuracy)\n"
   ]
  },
  {
   "cell_type": "markdown",
   "metadata": {},
   "source": [
    "# Text analysis\n",
    "## Stop Words\n",
    "When working with text or natural language, there are certain words that don't add any value to a sentence e.g. \"this\" and so we will need to remove these words. "
   ]
  },
  {
   "cell_type": "code",
   "execution_count": 38,
   "metadata": {},
   "outputs": [
    {
     "name": "stdout",
     "output_type": "stream",
     "text": [
      "With stop words: hello i am brandon!\n",
      "Without stop words: hello brandon\n"
     ]
    }
   ],
   "source": [
    "from nltk.corpus import stopwords \n",
    "import string\n",
    "\n",
    "df['content'] = df['content'].str.lower() #make all the letters lowercase for easy of use\n",
    "\n",
    "stop = stopwords.words('english') #import english stopwords from nltk \n",
    "additional_stopwords = [\"i'm\", \"i'll\", \"ill\"] #add any additional stop words not from nltk\n",
    "stop = stop + additional_stopwords\n",
    "\n",
    "df['content_without_stopwords'] = df['content'].apply(lambda x: ' '.join([word for word in x.split() if word not in (stop)])) #remove all stopwords in content column\n",
    "\n",
    "df['content_without_stopwords'] = df['content_without_stopwords'].apply(lambda x: x.translate(str.maketrans(\"\", \"\", string.punctuation))) #remove all punctuation\n",
    "\n",
    "df['content_without_stopwords'] = df['content_without_stopwords'].apply(lambda x: \"\".join([i for i in x if not i.isdigit()])) #remove all digits\n",
    "\n",
    "print('With stop words: ' + df['content'][0])\n",
    "print('Without stop words: ' + df['content_without_stopwords'][0])"
   ]
  },
  {
   "cell_type": "code",
   "execution_count": 39,
   "metadata": {},
   "outputs": [
    {
     "data": {
      "text/html": [
       "<div>\n",
       "<style scoped>\n",
       "    .dataframe tbody tr th:only-of-type {\n",
       "        vertical-align: middle;\n",
       "    }\n",
       "\n",
       "    .dataframe tbody tr th {\n",
       "        vertical-align: top;\n",
       "    }\n",
       "\n",
       "    .dataframe thead th {\n",
       "        text-align: right;\n",
       "    }\n",
       "</style>\n",
       "<table border=\"1\" class=\"dataframe\">\n",
       "  <thead>\n",
       "    <tr style=\"text-align: right;\">\n",
       "      <th></th>\n",
       "      <th>index</th>\n",
       "      <th>userIDs</th>\n",
       "      <th>implementation</th>\n",
       "      <th>Line_ID</th>\n",
       "      <th>ChatGroup</th>\n",
       "      <th>content</th>\n",
       "      <th>group_id</th>\n",
       "      <th>RoleName</th>\n",
       "      <th>roomName</th>\n",
       "      <th>m_experimental_testing</th>\n",
       "      <th>m_making_design_choices</th>\n",
       "      <th>m_asking_questions</th>\n",
       "      <th>j_customer_consultants_requests</th>\n",
       "      <th>j_performance_parameters_requirements</th>\n",
       "      <th>j_communication</th>\n",
       "      <th>OutcomeScore</th>\n",
       "      <th>wordCount</th>\n",
       "      <th>content_without_stopwords</th>\n",
       "    </tr>\n",
       "  </thead>\n",
       "  <tbody>\n",
       "    <tr>\n",
       "      <th>0</th>\n",
       "      <td>5</td>\n",
       "      <td>2</td>\n",
       "      <td>a</td>\n",
       "      <td>6</td>\n",
       "      <td>PRNLT</td>\n",
       "      <td>hello i am brandon!</td>\n",
       "      <td>2</td>\n",
       "      <td>Player</td>\n",
       "      <td>Introduction and Workflow Tutorial with Entran...</td>\n",
       "      <td>0</td>\n",
       "      <td>0</td>\n",
       "      <td>0</td>\n",
       "      <td>0</td>\n",
       "      <td>0</td>\n",
       "      <td>0</td>\n",
       "      <td>4</td>\n",
       "      <td>4</td>\n",
       "      <td>hello brandon</td>\n",
       "    </tr>\n",
       "    <tr>\n",
       "      <th>1</th>\n",
       "      <td>247</td>\n",
       "      <td>2</td>\n",
       "      <td>a</td>\n",
       "      <td>248</td>\n",
       "      <td>PRNLT</td>\n",
       "      <td>using negative and hydrophillic</td>\n",
       "      <td>2</td>\n",
       "      <td>Player</td>\n",
       "      <td>Team designs batch using 1 material</td>\n",
       "      <td>0</td>\n",
       "      <td>0</td>\n",
       "      <td>0</td>\n",
       "      <td>0</td>\n",
       "      <td>0</td>\n",
       "      <td>0</td>\n",
       "      <td>4</td>\n",
       "      <td>4</td>\n",
       "      <td>using negative hydrophillic</td>\n",
       "    </tr>\n",
       "    <tr>\n",
       "      <th>2</th>\n",
       "      <td>144</td>\n",
       "      <td>2</td>\n",
       "      <td>a</td>\n",
       "      <td>145</td>\n",
       "      <td>PRNLT</td>\n",
       "      <td>the amount of nano tubes in the filter?</td>\n",
       "      <td>2</td>\n",
       "      <td>Player</td>\n",
       "      <td>Individuals design 5 prototypes</td>\n",
       "      <td>0</td>\n",
       "      <td>0</td>\n",
       "      <td>1</td>\n",
       "      <td>0</td>\n",
       "      <td>0</td>\n",
       "      <td>0</td>\n",
       "      <td>4</td>\n",
       "      <td>8</td>\n",
       "      <td>amount nano tubes filter</td>\n",
       "    </tr>\n",
       "    <tr>\n",
       "      <th>3</th>\n",
       "      <td>145</td>\n",
       "      <td>2</td>\n",
       "      <td>a</td>\n",
       "      <td>146</td>\n",
       "      <td>PRNLT</td>\n",
       "      <td>thank you!</td>\n",
       "      <td>2</td>\n",
       "      <td>Player</td>\n",
       "      <td>Individuals design 5 prototypes</td>\n",
       "      <td>0</td>\n",
       "      <td>0</td>\n",
       "      <td>0</td>\n",
       "      <td>0</td>\n",
       "      <td>0</td>\n",
       "      <td>0</td>\n",
       "      <td>4</td>\n",
       "      <td>2</td>\n",
       "      <td>thank you</td>\n",
       "    </tr>\n",
       "    <tr>\n",
       "      <th>4</th>\n",
       "      <td>302</td>\n",
       "      <td>2</td>\n",
       "      <td>a</td>\n",
       "      <td>303</td>\n",
       "      <td>PRNLT</td>\n",
       "      <td>i think that blood cell reactivity is very imp...</td>\n",
       "      <td>2</td>\n",
       "      <td>Player</td>\n",
       "      <td>Reflection team discussion of first batch results</td>\n",
       "      <td>0</td>\n",
       "      <td>0</td>\n",
       "      <td>0</td>\n",
       "      <td>0</td>\n",
       "      <td>0</td>\n",
       "      <td>0</td>\n",
       "      <td>4</td>\n",
       "      <td>9</td>\n",
       "      <td>think blood cell reactivity important</td>\n",
       "    </tr>\n",
       "    <tr>\n",
       "      <th>...</th>\n",
       "      <td>...</td>\n",
       "      <td>...</td>\n",
       "      <td>...</td>\n",
       "      <td>...</td>\n",
       "      <td>...</td>\n",
       "      <td>...</td>\n",
       "      <td>...</td>\n",
       "      <td>...</td>\n",
       "      <td>...</td>\n",
       "      <td>...</td>\n",
       "      <td>...</td>\n",
       "      <td>...</td>\n",
       "      <td>...</td>\n",
       "      <td>...</td>\n",
       "      <td>...</td>\n",
       "      <td>...</td>\n",
       "      <td>...</td>\n",
       "      <td>...</td>\n",
       "    </tr>\n",
       "    <tr>\n",
       "      <th>16897</th>\n",
       "      <td>19074</td>\n",
       "      <td>393</td>\n",
       "      <td>o</td>\n",
       "      <td>19078</td>\n",
       "      <td>PESPVP</td>\n",
       "      <td>ok ill make it really quick.</td>\n",
       "      <td>6</td>\n",
       "      <td>Player</td>\n",
       "      <td>Team designs batch using 1 material</td>\n",
       "      <td>0</td>\n",
       "      <td>0</td>\n",
       "      <td>0</td>\n",
       "      <td>0</td>\n",
       "      <td>0</td>\n",
       "      <td>0</td>\n",
       "      <td>4</td>\n",
       "      <td>6</td>\n",
       "      <td>ok make really quick</td>\n",
       "    </tr>\n",
       "    <tr>\n",
       "      <th>16898</th>\n",
       "      <td>18986</td>\n",
       "      <td>393</td>\n",
       "      <td>o</td>\n",
       "      <td>18990</td>\n",
       "      <td>PESPVP</td>\n",
       "      <td>sort of. thats what we are testing i think. to...</td>\n",
       "      <td>6</td>\n",
       "      <td>Player</td>\n",
       "      <td>Team designs batch using 1 material</td>\n",
       "      <td>0</td>\n",
       "      <td>0</td>\n",
       "      <td>0</td>\n",
       "      <td>0</td>\n",
       "      <td>0</td>\n",
       "      <td>0</td>\n",
       "      <td>4</td>\n",
       "      <td>19</td>\n",
       "      <td>sort of thats testing think see additional cnt...</td>\n",
       "    </tr>\n",
       "    <tr>\n",
       "      <th>16899</th>\n",
       "      <td>19070</td>\n",
       "      <td>393</td>\n",
       "      <td>o</td>\n",
       "      <td>19074</td>\n",
       "      <td>PESPVP</td>\n",
       "      <td>hows that?</td>\n",
       "      <td>6</td>\n",
       "      <td>Player</td>\n",
       "      <td>Team designs batch using 1 material</td>\n",
       "      <td>0</td>\n",
       "      <td>0</td>\n",
       "      <td>1</td>\n",
       "      <td>0</td>\n",
       "      <td>0</td>\n",
       "      <td>0</td>\n",
       "      <td>4</td>\n",
       "      <td>2</td>\n",
       "      <td>hows that</td>\n",
       "    </tr>\n",
       "    <tr>\n",
       "      <th>16900</th>\n",
       "      <td>18990</td>\n",
       "      <td>393</td>\n",
       "      <td>o</td>\n",
       "      <td>18994</td>\n",
       "      <td>PESPVP</td>\n",
       "      <td>i would like to test me 4th prototype. it woul...</td>\n",
       "      <td>6</td>\n",
       "      <td>Player</td>\n",
       "      <td>Team designs batch using 1 material</td>\n",
       "      <td>0</td>\n",
       "      <td>0</td>\n",
       "      <td>0</td>\n",
       "      <td>0</td>\n",
       "      <td>0</td>\n",
       "      <td>0</td>\n",
       "      <td>4</td>\n",
       "      <td>43</td>\n",
       "      <td>would like test th prototype would smart put b...</td>\n",
       "    </tr>\n",
       "    <tr>\n",
       "      <th>16901</th>\n",
       "      <td>19178</td>\n",
       "      <td>393</td>\n",
       "      <td>o</td>\n",
       "      <td>19182</td>\n",
       "      <td>PESPVP</td>\n",
       "      <td>precisely</td>\n",
       "      <td>6</td>\n",
       "      <td>Player</td>\n",
       "      <td>Reflection team discussion of first batch results</td>\n",
       "      <td>0</td>\n",
       "      <td>0</td>\n",
       "      <td>0</td>\n",
       "      <td>0</td>\n",
       "      <td>0</td>\n",
       "      <td>0</td>\n",
       "      <td>4</td>\n",
       "      <td>1</td>\n",
       "      <td>precisely</td>\n",
       "    </tr>\n",
       "  </tbody>\n",
       "</table>\n",
       "<p>16902 rows × 18 columns</p>\n",
       "</div>"
      ],
      "text/plain": [
       "       index  userIDs implementation  Line_ID ChatGroup  \\\n",
       "0          5        2              a        6     PRNLT   \n",
       "1        247        2              a      248     PRNLT   \n",
       "2        144        2              a      145     PRNLT   \n",
       "3        145        2              a      146     PRNLT   \n",
       "4        302        2              a      303     PRNLT   \n",
       "...      ...      ...            ...      ...       ...   \n",
       "16897  19074      393              o    19078    PESPVP   \n",
       "16898  18986      393              o    18990    PESPVP   \n",
       "16899  19070      393              o    19074    PESPVP   \n",
       "16900  18990      393              o    18994    PESPVP   \n",
       "16901  19178      393              o    19182    PESPVP   \n",
       "\n",
       "                                                 content  group_id RoleName  \\\n",
       "0                                    hello i am brandon!         2   Player   \n",
       "1                        using negative and hydrophillic         2   Player   \n",
       "2                the amount of nano tubes in the filter?         2   Player   \n",
       "3                                             thank you!         2   Player   \n",
       "4      i think that blood cell reactivity is very imp...         2   Player   \n",
       "...                                                  ...       ...      ...   \n",
       "16897                       ok ill make it really quick.         6   Player   \n",
       "16898  sort of. thats what we are testing i think. to...         6   Player   \n",
       "16899                                         hows that?         6   Player   \n",
       "16900  i would like to test me 4th prototype. it woul...         6   Player   \n",
       "16901                                          precisely         6   Player   \n",
       "\n",
       "                                                roomName  \\\n",
       "0      Introduction and Workflow Tutorial with Entran...   \n",
       "1                    Team designs batch using 1 material   \n",
       "2                        Individuals design 5 prototypes   \n",
       "3                        Individuals design 5 prototypes   \n",
       "4      Reflection team discussion of first batch results   \n",
       "...                                                  ...   \n",
       "16897                Team designs batch using 1 material   \n",
       "16898                Team designs batch using 1 material   \n",
       "16899                Team designs batch using 1 material   \n",
       "16900                Team designs batch using 1 material   \n",
       "16901  Reflection team discussion of first batch results   \n",
       "\n",
       "       m_experimental_testing  m_making_design_choices  m_asking_questions  \\\n",
       "0                           0                        0                   0   \n",
       "1                           0                        0                   0   \n",
       "2                           0                        0                   1   \n",
       "3                           0                        0                   0   \n",
       "4                           0                        0                   0   \n",
       "...                       ...                      ...                 ...   \n",
       "16897                       0                        0                   0   \n",
       "16898                       0                        0                   0   \n",
       "16899                       0                        0                   1   \n",
       "16900                       0                        0                   0   \n",
       "16901                       0                        0                   0   \n",
       "\n",
       "       j_customer_consultants_requests  j_performance_parameters_requirements  \\\n",
       "0                                    0                                      0   \n",
       "1                                    0                                      0   \n",
       "2                                    0                                      0   \n",
       "3                                    0                                      0   \n",
       "4                                    0                                      0   \n",
       "...                                ...                                    ...   \n",
       "16897                                0                                      0   \n",
       "16898                                0                                      0   \n",
       "16899                                0                                      0   \n",
       "16900                                0                                      0   \n",
       "16901                                0                                      0   \n",
       "\n",
       "       j_communication  OutcomeScore  wordCount  \\\n",
       "0                    0             4          4   \n",
       "1                    0             4          4   \n",
       "2                    0             4          8   \n",
       "3                    0             4          2   \n",
       "4                    0             4          9   \n",
       "...                ...           ...        ...   \n",
       "16897                0             4          6   \n",
       "16898                0             4         19   \n",
       "16899                0             4          2   \n",
       "16900                0             4         43   \n",
       "16901                0             4          1   \n",
       "\n",
       "                               content_without_stopwords  \n",
       "0                                          hello brandon  \n",
       "1                            using negative hydrophillic  \n",
       "2                               amount nano tubes filter  \n",
       "3                                              thank you  \n",
       "4                  think blood cell reactivity important  \n",
       "...                                                  ...  \n",
       "16897                               ok make really quick  \n",
       "16898  sort of thats testing think see additional cnt...  \n",
       "16899                                          hows that  \n",
       "16900  would like test th prototype would smart put b...  \n",
       "16901                                          precisely  \n",
       "\n",
       "[16902 rows x 18 columns]"
      ]
     },
     "execution_count": 39,
     "metadata": {},
     "output_type": "execute_result"
    }
   ],
   "source": [
    "df"
   ]
  },
  {
   "cell_type": "markdown",
   "metadata": {},
   "source": [
    "## Tokenizing\n",
    "\n",
    "In natural language processing, each document or sentence can thought of as a bag of words in the form of a list where each element is a word..."
   ]
  },
  {
   "cell_type": "code",
   "execution_count": 40,
   "metadata": {
    "tags": []
   },
   "outputs": [],
   "source": [
    "from nltk.tokenize import word_tokenize\n",
    "df['content_tokenized'] = df.apply(lambda row: word_tokenize(row['content_without_stopwords']), axis=1) #tokenize all the content"
   ]
  },
  {
   "cell_type": "markdown",
   "metadata": {},
   "source": [
    "Splitting the document up like this is called <u>tokenizing</u>."
   ]
  },
  {
   "cell_type": "code",
   "execution_count": 41,
   "metadata": {},
   "outputs": [
    {
     "data": {
      "text/plain": [
       "['hello', 'brandon']"
      ]
     },
     "execution_count": 41,
     "metadata": {},
     "output_type": "execute_result"
    }
   ],
   "source": [
    "df['content_tokenized'][0]"
   ]
  },
  {
   "cell_type": "code",
   "execution_count": 42,
   "metadata": {
    "tags": []
   },
   "outputs": [
    {
     "name": "stdout",
     "output_type": "stream",
     "text": [
      "Number of words: 5569\n",
      "['optimum', 'yup', 'that', 'interface', 'hone', 'g', 'disregard', 'opposition', 'lack', 'teacher', 'psfnanotube', 'determines', 'proceeding', 'prototyper', 'pressing', 'reviewing', 'benjamin', 'retest', 'weither', 'devices']\n"
     ]
    }
   ],
   "source": [
    "#all words found in the content\n",
    "word_set = set().union(*df['content_tokenized'])\n",
    "print(\"Number of words: \" + str(len(word_set)))\n",
    "print(list(word_set)[:20]) #print first 20 words of word set"
   ]
  },
  {
   "cell_type": "code",
   "execution_count": 43,
   "metadata": {
    "tags": []
   },
   "outputs": [],
   "source": [
    "#splitting each sublist into all content said by each user\n",
    "user_dict = [] #creating an empty list to store all the sublist of all the words said by each user\n",
    "for idx in df['userIDs'].unique(): #loop over every unique id\n",
    "    lst = [word_tokenize(i) for i in df[df['userIDs'] == idx]['content_without_stopwords'].to_list()] #tokenize the contents of each row\n",
    "    tokenized_sents = [item for sublist in lst for item in sublist] #re-formatting \n",
    "    tokenized_sents_with_id = [idx, tokenized_sents]\n",
    "    user_dict.append(tokenized_sents_with_id) #append the sublist into the user_dict list"
   ]
  },
  {
   "cell_type": "code",
   "execution_count": 44,
   "metadata": {
    "tags": []
   },
   "outputs": [
    {
     "name": "stdout",
     "output_type": "stream",
     "text": [
      "['hello', 'brandon', 'using', 'negative', 'hydrophillic', 'amount', 'nano', 'tubes', 'filter', 'thank']\n"
     ]
    }
   ],
   "source": [
    "print(user_dict[0][1][:10]) #printing all content that user 2 said"
   ]
  },
  {
   "cell_type": "code",
   "execution_count": 45,
   "metadata": {},
   "outputs": [],
   "source": [
    "#creating a list where each sublist is a dictionary that counts the frequency of all the words that are used by a user\n",
    "word_dict = [] #create an empty list to store all the words used\n",
    "for i in range(len(user_dict)):\n",
    "    #creating dictionaries to keep count of the words\n",
    "    temp_word_dict = dict.fromkeys(word_set, 0)\n",
    "    word_dict.append(temp_word_dict) #append each dictionary to the word dictionary \n",
    "    \n",
    "    #count the words in the bag of words for each user\n",
    "    for word in user_dict[i][1]:\n",
    "        word_dict[i][word] += 1"
   ]
  },
  {
   "cell_type": "code",
   "execution_count": 46,
   "metadata": {
    "tags": []
   },
   "outputs": [
    {
     "name": "stdout",
     "output_type": "stream",
     "text": [
      "[('optimum', 0), ('yup', 0), ('that', 2), ('interface', 0), ('hone', 0), ('g', 0), ('disregard', 0), ('opposition', 0), ('lack', 0), ('teacher', 0)]\n"
     ]
    }
   ],
   "source": [
    "print(list(word_dict[0].items())[:10]) #printing the first 10 dictionary words of user 2"
   ]
  },
  {
   "cell_type": "markdown",
   "metadata": {},
   "source": [
    "## TF-IDF\n",
    "\n",
    "Rather than just counting, we can use <u>TF-IDF</u>, short for term frequency-inverse document frequency to rank a word on it's importance.\n",
    "\n",
    "The <u>TF-IDF</u> score of a word $ w $ is: $ tf(w) * idf(w) $\n",
    "\n",
    "Where $ tf(w) $ = frequency of word in a document / total number of words in the document\n",
    "\n",
    "And where $ idf(w) $ = $\\log$(number of documents / number of documents that contain word $ w $)"
   ]
  },
  {
   "cell_type": "code",
   "execution_count": 47,
   "metadata": {},
   "outputs": [],
   "source": [
    "def computeTF(word_dict, user_dict):\n",
    "    tf_dict = {}\n",
    "    user_dict_count = len(user_dict)\n",
    "    for word, count in word_dict.items():\n",
    "        if user_dict_count == 0:\n",
    "            tf_dict[word] = 0\n",
    "        else:\n",
    "            tf_dict[word] = count / float(user_dict_count)\n",
    "    return tf_dict\n",
    "\n",
    "def computeIDF(doc_list):\n",
    "    import math\n",
    "    idf_dict = {}\n",
    "    n = len(doc_list)\n",
    "\n",
    "    idf_dict = dict.fromkeys(doc_list[0].keys(),0)\n",
    "    for doc in doc_list:\n",
    "        for word, val in doc.items():\n",
    "            if val > 0:\n",
    "                idf_dict[word] += 1\n",
    "\n",
    "    for word, val in idf_dict.items():\n",
    "        idf_dict[word] = math.log(n / float(val), 10)\n",
    "\n",
    "    return idf_dict\n",
    "\n",
    "def computeTFIDF(tf_user_dict, idfs):\n",
    "    tfidf = {}\n",
    "    for word, val in tf_user_dict.items():\n",
    "        tfidf[word] = val * idfs[word]\n",
    "    return tfidf"
   ]
  },
  {
   "cell_type": "markdown",
   "metadata": {},
   "source": [
    "### Example of TF-IDF\n",
    "\n",
    "Suppose we have two documents as listed below. The calculation of <u>TF-IDF</u> for the term \"hello\" is performed as: \n",
    "\n",
    "The <u>TF</u>, is the frequency that the word \"hello\" appears in each document. In each document, the word appears once; but as document 1 (index 0) has more words, its relative frequency is smaller.\n",
    "\n",
    "$$ tf('charge', doc1) = \\frac{1}{2} = 0.5 $$\n",
    "$$ tf('charge', doc2) = \\frac{1}{3} \\approx 0.33 $$\n",
    "\n",
    "An <u>IDF</u> accounts for the ratio of documents that include the word \"hello\". In this case, we have a total of two documents and all of them include the word \"hello\".\n",
    "\n",
    "$$ idf('charge', documents) = log(\\frac{2}{2}) = 0 $$\n",
    "\n",
    "So <u>TF-IDF</u> is 0 for the word \"hello\" implying that the word is not very informative as it appears in all documents.\n",
    "\n",
    "$$ tfidf('charge', doc1, documents) = 0.5 * 0 = 0 $$\n",
    "$$ tfidf('charge', doc2, documents) = 0.33 * 0 = 0 $$\n",
    "\n",
    "Take the word \"team\", it occurs once only in document 1:\n",
    "\n",
    "$$ tf('hydrophilic', doc1) = \\frac{0}{2} = 0 $$\n",
    "$$ tf('hydrophilic', doc2) = \\frac{1}{3} \\approx 0.33 $$\n",
    "$$ idf('hydrophilic', documents) = log(\\frac{2}{1}) \\approx 0.301 $$\n",
    "\n",
    "Therefore,\n",
    "\n",
    "$$ tfidf('hydrophilic', doc1, documents) = tf('hydrophilic', doc1) * idf('hydrophilic', documents) = 0 * 0.301 = 0 $$\n",
    "$$ tfidf('hydrophilic', doc2, documents) = tf('hydrophilic', doc2) * idf('hydrophilic', documents) = 0.33 * 0.301 \\approx 0.1 $$"
   ]
  },
  {
   "cell_type": "code",
   "execution_count": 48,
   "metadata": {},
   "outputs": [
    {
     "data": {
      "text/html": [
       "<div>\n",
       "<style scoped>\n",
       "    .dataframe tbody tr th:only-of-type {\n",
       "        vertical-align: middle;\n",
       "    }\n",
       "\n",
       "    .dataframe tbody tr th {\n",
       "        vertical-align: top;\n",
       "    }\n",
       "\n",
       "    .dataframe thead th {\n",
       "        text-align: right;\n",
       "    }\n",
       "</style>\n",
       "<table border=\"1\" class=\"dataframe\">\n",
       "  <thead>\n",
       "    <tr style=\"text-align: right;\">\n",
       "      <th></th>\n",
       "      <th>negative</th>\n",
       "      <th>hydrophilic</th>\n",
       "      <th>charge</th>\n",
       "    </tr>\n",
       "  </thead>\n",
       "  <tbody>\n",
       "    <tr>\n",
       "      <th>0</th>\n",
       "      <td>1</td>\n",
       "      <td>0</td>\n",
       "      <td>1</td>\n",
       "    </tr>\n",
       "    <tr>\n",
       "      <th>1</th>\n",
       "      <td>1</td>\n",
       "      <td>1</td>\n",
       "      <td>1</td>\n",
       "    </tr>\n",
       "  </tbody>\n",
       "</table>\n",
       "</div>"
      ],
      "text/plain": [
       "   negative  hydrophilic  charge\n",
       "0         1            0       1\n",
       "1         1            1       1"
      ]
     },
     "execution_count": 48,
     "metadata": {},
     "output_type": "execute_result"
    }
   ],
   "source": [
    "doc1 = word_tokenize(df['content_without_stopwords'][19])\n",
    "doc2 = word_tokenize(df['content_without_stopwords'][21])\n",
    "\n",
    "word_set_example = set(doc1).union(set(doc2))\n",
    "word_dict1 = dict.fromkeys(word_set_example, 0)\n",
    "word_dict2 = dict.fromkeys(word_set_example, 0)\n",
    "\n",
    "for word in doc1:\n",
    "    word_dict1[word] += 1\n",
    "\n",
    "for word in doc2:\n",
    "    word_dict2[word] += 1\n",
    "\n",
    "pd.DataFrame([word_dict1, word_dict2])"
   ]
  },
  {
   "cell_type": "code",
   "execution_count": 49,
   "metadata": {},
   "outputs": [
    {
     "name": "stdout",
     "output_type": "stream",
     "text": [
      "charge\n",
      "tf for document 1: 0.5\n",
      "tf for document 2: 0.3333333333333333\n",
      "idf for documents: 0.0\n",
      "tfidf for document 1: 0.0\n",
      "tfidf for document 2: 0.0\n",
      "\n",
      "hydrophilic\n",
      "tf for document 1: 0.0\n",
      "tf for document 2: 0.3333333333333333\n",
      "idf for documents: 0.30102999566398114\n",
      "tfidf for document 1: 0.0\n",
      "tfidf for document 2: 0.10034333188799371\n"
     ]
    }
   ],
   "source": [
    "tf1_example = computeTF(word_dict1, doc1)\n",
    "tf2_example = computeTF(word_dict2, doc2)\n",
    "\n",
    "idf_example = computeIDF([word_dict1, word_dict2])\n",
    "\n",
    "tfidf1_example = computeTFIDF(tf1_example, idf_example)\n",
    "tfidf2_example = computeTFIDF(tf2_example, idf_example)\n",
    "\n",
    "word1 = \"charge\"\n",
    "print(word1)\n",
    "print(\"tf for document 1: \" + str(tf1_example[word1]))\n",
    "print(\"tf for document 2: \" + str(tf2_example[word1]))\n",
    "print(\"idf for documents: \" + str(idf_example[word1]))\n",
    "print(\"tfidf for document 1: \" + str(tfidf1_example[word1]))\n",
    "print(\"tfidf for document 2: \" + str(tfidf2_example[word1]))\n",
    "print(\"\")\n",
    "\n",
    "word2 = \"hydrophilic\"\n",
    "print(word2)\n",
    "print(\"tf for document 1: \" + str(tf1_example[word2]))\n",
    "print(\"tf for document 2: \" + str(tf2_example[word2]))\n",
    "print(\"idf for documents: \" + str(idf_example[word2]))\n",
    "print(\"tfidf for document 1: \" + str(tfidf1_example[word2]))\n",
    "print(\"tfidf for document 2: \" + str(tfidf2_example[word2]))"
   ]
  },
  {
   "cell_type": "code",
   "execution_count": 50,
   "metadata": {},
   "outputs": [],
   "source": [
    "idfs = computeIDF(word_dict) #compute idf\n",
    "tfidf = [] #create empty list to append tf-idf values\n",
    "for i in range(len(user_dict)): \n",
    "    temp_tf_user_dict = computeTF(word_dict[i], user_dict[i][1]) #compute tf\n",
    "    temp_tfidf_user_dict = computeTFIDF(temp_tf_user_dict, idfs) #compute tf-idf\n",
    "    tfidf.append(temp_tfidf_user_dict) #append tf-idf values into list"
   ]
  },
  {
   "cell_type": "code",
   "execution_count": 51,
   "metadata": {},
   "outputs": [
    {
     "data": {
      "text/html": [
       "<div>\n",
       "<style scoped>\n",
       "    .dataframe tbody tr th:only-of-type {\n",
       "        vertical-align: middle;\n",
       "    }\n",
       "\n",
       "    .dataframe tbody tr th {\n",
       "        vertical-align: top;\n",
       "    }\n",
       "\n",
       "    .dataframe thead th {\n",
       "        text-align: right;\n",
       "    }\n",
       "</style>\n",
       "<table border=\"1\" class=\"dataframe\">\n",
       "  <thead>\n",
       "    <tr style=\"text-align: right;\">\n",
       "      <th></th>\n",
       "      <th>optimum</th>\n",
       "      <th>yup</th>\n",
       "      <th>that</th>\n",
       "      <th>interface</th>\n",
       "      <th>hone</th>\n",
       "      <th>g</th>\n",
       "      <th>disregard</th>\n",
       "      <th>opposition</th>\n",
       "      <th>lack</th>\n",
       "      <th>teacher</th>\n",
       "      <th>...</th>\n",
       "      <th>downs</th>\n",
       "      <th>discussion</th>\n",
       "      <th>calling</th>\n",
       "      <th>fgh</th>\n",
       "      <th>manufactoring</th>\n",
       "      <th>zachary</th>\n",
       "      <th>guarantee</th>\n",
       "      <th>thingy</th>\n",
       "      <th>adhering</th>\n",
       "      <th>outcome_score</th>\n",
       "    </tr>\n",
       "  </thead>\n",
       "  <tbody>\n",
       "    <tr>\n",
       "      <th>2</th>\n",
       "      <td>0.0</td>\n",
       "      <td>0.0</td>\n",
       "      <td>0.002657</td>\n",
       "      <td>0.0</td>\n",
       "      <td>0.0</td>\n",
       "      <td>0.0</td>\n",
       "      <td>0.0</td>\n",
       "      <td>0.0</td>\n",
       "      <td>0.0</td>\n",
       "      <td>0.0</td>\n",
       "      <td>...</td>\n",
       "      <td>0.0</td>\n",
       "      <td>0.006694</td>\n",
       "      <td>0.0</td>\n",
       "      <td>0.0</td>\n",
       "      <td>0.0</td>\n",
       "      <td>0.0</td>\n",
       "      <td>0.0</td>\n",
       "      <td>0.0</td>\n",
       "      <td>0.0</td>\n",
       "      <td>4</td>\n",
       "    </tr>\n",
       "    <tr>\n",
       "      <th>3</th>\n",
       "      <td>0.0</td>\n",
       "      <td>0.0</td>\n",
       "      <td>0.000000</td>\n",
       "      <td>0.0</td>\n",
       "      <td>0.0</td>\n",
       "      <td>0.0</td>\n",
       "      <td>0.0</td>\n",
       "      <td>0.0</td>\n",
       "      <td>0.0</td>\n",
       "      <td>0.0</td>\n",
       "      <td>...</td>\n",
       "      <td>0.0</td>\n",
       "      <td>0.000000</td>\n",
       "      <td>0.0</td>\n",
       "      <td>0.0</td>\n",
       "      <td>0.0</td>\n",
       "      <td>0.0</td>\n",
       "      <td>0.0</td>\n",
       "      <td>0.0</td>\n",
       "      <td>0.0</td>\n",
       "      <td>4</td>\n",
       "    </tr>\n",
       "    <tr>\n",
       "      <th>4</th>\n",
       "      <td>0.0</td>\n",
       "      <td>0.0</td>\n",
       "      <td>0.000000</td>\n",
       "      <td>0.0</td>\n",
       "      <td>0.0</td>\n",
       "      <td>0.0</td>\n",
       "      <td>0.0</td>\n",
       "      <td>0.0</td>\n",
       "      <td>0.0</td>\n",
       "      <td>0.0</td>\n",
       "      <td>...</td>\n",
       "      <td>0.0</td>\n",
       "      <td>0.000000</td>\n",
       "      <td>0.0</td>\n",
       "      <td>0.0</td>\n",
       "      <td>0.0</td>\n",
       "      <td>0.0</td>\n",
       "      <td>0.0</td>\n",
       "      <td>0.0</td>\n",
       "      <td>0.0</td>\n",
       "      <td>4</td>\n",
       "    </tr>\n",
       "    <tr>\n",
       "      <th>5</th>\n",
       "      <td>0.0</td>\n",
       "      <td>0.0</td>\n",
       "      <td>0.000000</td>\n",
       "      <td>0.0</td>\n",
       "      <td>0.0</td>\n",
       "      <td>0.0</td>\n",
       "      <td>0.0</td>\n",
       "      <td>0.0</td>\n",
       "      <td>0.0</td>\n",
       "      <td>0.0</td>\n",
       "      <td>...</td>\n",
       "      <td>0.0</td>\n",
       "      <td>0.000000</td>\n",
       "      <td>0.0</td>\n",
       "      <td>0.0</td>\n",
       "      <td>0.0</td>\n",
       "      <td>0.0</td>\n",
       "      <td>0.0</td>\n",
       "      <td>0.0</td>\n",
       "      <td>0.0</td>\n",
       "      <td>2</td>\n",
       "    </tr>\n",
       "    <tr>\n",
       "      <th>6</th>\n",
       "      <td>0.0</td>\n",
       "      <td>0.0</td>\n",
       "      <td>0.000000</td>\n",
       "      <td>0.0</td>\n",
       "      <td>0.0</td>\n",
       "      <td>0.0</td>\n",
       "      <td>0.0</td>\n",
       "      <td>0.0</td>\n",
       "      <td>0.0</td>\n",
       "      <td>0.0</td>\n",
       "      <td>...</td>\n",
       "      <td>0.0</td>\n",
       "      <td>0.000000</td>\n",
       "      <td>0.0</td>\n",
       "      <td>0.0</td>\n",
       "      <td>0.0</td>\n",
       "      <td>0.0</td>\n",
       "      <td>0.0</td>\n",
       "      <td>0.0</td>\n",
       "      <td>0.0</td>\n",
       "      <td>2</td>\n",
       "    </tr>\n",
       "  </tbody>\n",
       "</table>\n",
       "<p>5 rows × 5570 columns</p>\n",
       "</div>"
      ],
      "text/plain": [
       "   optimum  yup      that  interface  hone    g  disregard  opposition  lack  \\\n",
       "2      0.0  0.0  0.002657        0.0   0.0  0.0        0.0         0.0   0.0   \n",
       "3      0.0  0.0  0.000000        0.0   0.0  0.0        0.0         0.0   0.0   \n",
       "4      0.0  0.0  0.000000        0.0   0.0  0.0        0.0         0.0   0.0   \n",
       "5      0.0  0.0  0.000000        0.0   0.0  0.0        0.0         0.0   0.0   \n",
       "6      0.0  0.0  0.000000        0.0   0.0  0.0        0.0         0.0   0.0   \n",
       "\n",
       "   teacher  ...  downs  discussion  calling  fgh  manufactoring  zachary  \\\n",
       "2      0.0  ...    0.0    0.006694      0.0  0.0            0.0      0.0   \n",
       "3      0.0  ...    0.0    0.000000      0.0  0.0            0.0      0.0   \n",
       "4      0.0  ...    0.0    0.000000      0.0  0.0            0.0      0.0   \n",
       "5      0.0  ...    0.0    0.000000      0.0  0.0            0.0      0.0   \n",
       "6      0.0  ...    0.0    0.000000      0.0  0.0            0.0      0.0   \n",
       "\n",
       "   guarantee  thingy  adhering  outcome_score  \n",
       "2        0.0     0.0       0.0              4  \n",
       "3        0.0     0.0       0.0              4  \n",
       "4        0.0     0.0       0.0              4  \n",
       "5        0.0     0.0       0.0              2  \n",
       "6        0.0     0.0       0.0              2  \n",
       "\n",
       "[5 rows x 5570 columns]"
      ]
     },
     "execution_count": 51,
     "metadata": {},
     "output_type": "execute_result"
    }
   ],
   "source": [
    "df_tfidf = pd.DataFrame.from_records(tfidf) #make the matrix into a dataframe\n",
    "\n",
    "idx = [user_dict[i][0] for i in range(len(user_dict))]\n",
    "df_tfidf.index = idx\n",
    "\n",
    "outcome_score = df.drop_duplicates(subset=['userIDs'])['OutcomeScore'].to_numpy() #grab outcome score of each individual user\n",
    "df_tfidf['outcome_score'] = outcome_score\n",
    "\n",
    "df_tfidf.head() #print the first several rows"
   ]
  },
  {
   "cell_type": "markdown",
   "metadata": {},
   "source": [
    "## Resampling using Imbalanced-learn\n",
    "Since the dataset is so imbalanced, consisting of mainly outcome scores of 4, using metrics like `accuracy_score` can be misleading. Therefore, we need to use resampling in orde to remove samples from the majority class (under-sampling) and adding more samples from the minority class (over-sampling)."
   ]
  },
  {
   "cell_type": "code",
   "execution_count": 52,
   "metadata": {},
   "outputs": [],
   "source": [
    "random_state = 1 #initialise random_state we want to test"
   ]
  },
  {
   "cell_type": "code",
   "execution_count": 53,
   "metadata": {},
   "outputs": [
    {
     "data": {
      "image/png": "[encoded data removed]",
      "text/plain": [
       "<Figure size 432x288 with 1 Axes>"
      ]
     },
     "metadata": {
      "needs_background": "light"
     },
     "output_type": "display_data"
    }
   ],
   "source": [
    "outcome_score_count = df_tfidf['outcome_score'].value_counts()\n",
    "outcome_score_count.plot(kind='bar', title='Outcome Score Count');"
   ]
  },
  {
   "cell_type": "code",
   "execution_count": 54,
   "metadata": {},
   "outputs": [],
   "source": [
    "X = df_tfidf[df_tfidf.drop(columns=['outcome_score']).columns]\n",
    "y = df_tfidf['outcome_score']"
   ]
  },
  {
   "cell_type": "code",
   "execution_count": 55,
   "metadata": {},
   "outputs": [
    {
     "name": "stdout",
     "output_type": "stream",
     "text": [
      "Number of users after over sampling: 1125\n"
     ]
    }
   ],
   "source": [
    "from imblearn.over_sampling import RandomOverSampler\n",
    "\n",
    "ros = RandomOverSampler(random_state=random_state) #random_state to an integer to make sure examples are repeatable\n",
    "X_ros, y_ros = ros.fit_resample(X, y)\n",
    "print(\"Number of users after over sampling: \" + str(len(X_ros)))"
   ]
  },
  {
   "cell_type": "code",
   "execution_count": 56,
   "metadata": {},
   "outputs": [
    {
     "data": {
      "image/png": "[encoded data removed]",
      "text/plain": [
       "<Figure size 432x288 with 1 Axes>"
      ]
     },
     "metadata": {
      "needs_background": "light"
     },
     "output_type": "display_data"
    }
   ],
   "source": [
    "outcome_score_count = y_ros.value_counts()\n",
    "outcome_score_count.plot(kind='bar', title='Outcome Score Count after Over Sampling');"
   ]
  },
  {
   "cell_type": "markdown",
   "metadata": {},
   "source": [
    "## Feature Selection\n",
    "Since our current dataset has so many features, currently with 5569 columns, a technique we can use to reduce the number of features is feature selection where we reduce the number of irrelevant features in the dataset. "
   ]
  },
  {
   "cell_type": "markdown",
   "metadata": {},
   "source": [
    "### Pearson Correlation\n",
    "\n",
    "We check the absolute value of the Pearson’s correlation between the target and numerical features in our dataset. We keep the top n features based on this criterion.\n",
    "\n",
    "$$ r = \\frac{\\sum(x_i - \\bar{x})(y_i - \\bar{y})}{\\sqrt{\\sum(x_i - \\bar{x})^2}\\sum(y_i - \\bar{y})^2} $$\n",
    "$r$ = correlation coefficient   \n",
    "$x_i$ = values of the x-variable in a sample  \n",
    "$\\bar{x}$ = mean of the values of the x-variable  \n",
    "$y_i$ = values of the y-variable in a sample  \n",
    "$\\bar{y}$ = mean of the values of the y-variable"
   ]
  },
  {
   "cell_type": "code",
   "execution_count": 57,
   "metadata": {},
   "outputs": [],
   "source": [
    "def cor_selector(X, y,num_feats):\n",
    "    cor_list = []\n",
    "    feature_name = X.columns.tolist()\n",
    "    # calculate the correlation with y for each feature\n",
    "    for i in X.columns.tolist():\n",
    "        cor = np.corrcoef(X[i], y)[0, 1]\n",
    "        cor_list.append(cor)\n",
    "    # replace NaN with 0\n",
    "    cor_list = [0 if np.isnan(i) else i for i in cor_list]\n",
    "    # feature name\n",
    "    cor_feature = X.iloc[:,np.argsort(np.abs(cor_list))[-num_feats:]].columns.tolist()\n",
    "    # 0 for not select, 1 for select\n",
    "    cor_support = [True if i in cor_feature else False for i in feature_name]\n",
    "    return cor_support, cor_feature"
   ]
  },
  {
   "cell_type": "code",
   "execution_count": 58,
   "metadata": {},
   "outputs": [],
   "source": [
    "def generate_cor_feature(X, y, num_feats):\n",
    "    feature_name = list(X.columns)\n",
    "    # no of maximum features we need to select\n",
    "    cor_support, cor_feature = cor_selector(X, y, num_feats)\n",
    "    return cor_feature"
   ]
  },
  {
   "cell_type": "code",
   "execution_count": 59,
   "metadata": {},
   "outputs": [
    {
     "name": "stdout",
     "output_type": "stream",
     "text": [
      "3000 selected features\n"
     ]
    }
   ],
   "source": [
    "cor_feature = generate_cor_feature(X_ros, y_ros, 3000)\n",
    "print(str(len(cor_feature)), 'selected features')"
   ]
  },
  {
   "cell_type": "code",
   "execution_count": 60,
   "metadata": {},
   "outputs": [
    {
     "data": {
      "text/plain": [
       "['expressed',\n",
       " 'revision',\n",
       " 'chosing',\n",
       " 'assest',\n",
       " 'accidental',\n",
       " 'ratesand',\n",
       " 'al',\n",
       " 'volunteering',\n",
       " 'polyrenalateprnltnonotube',\n",
       " 'summed']"
      ]
     },
     "execution_count": 60,
     "metadata": {},
     "output_type": "execute_result"
    }
   ],
   "source": [
    "cor_feature[:10]"
   ]
  },
  {
   "cell_type": "markdown",
   "metadata": {},
   "source": [
    "### Chi-Square Features\n",
    "we calculate the chi-square metric between the target and the numerical variable and only select the variable with the maximum chi-squared values.\n",
    "\n",
    "$$ X^2 = \\sum\\frac{(O_i - E_i)^2}{E_i} $$\n",
    "$ X^2 $ = chi squared  \n",
    "$ O_i $ = observed value  \n",
    "$ E_i $ = expected value"
   ]
  },
  {
   "cell_type": "code",
   "execution_count": 61,
   "metadata": {},
   "outputs": [],
   "source": [
    "from sklearn.feature_selection import SelectKBest, chi2\n",
    "from sklearn.preprocessing import MinMaxScaler\n",
    "\n",
    "def generate_chi_feature(X, y, num_feats):\n",
    "    X_norm = MinMaxScaler().fit_transform(X)\n",
    "    chi_selector = SelectKBest(chi2, k=num_feats)\n",
    "    chi_selector.fit(X_norm, y)\n",
    "    chi_support = chi_selector.get_support()\n",
    "    chi_feature = X.loc[:,chi_support].columns.tolist()\n",
    "    return chi_feature"
   ]
  },
  {
   "cell_type": "code",
   "execution_count": 62,
   "metadata": {},
   "outputs": [
    {
     "name": "stdout",
     "output_type": "stream",
     "text": [
      "3000 selected features\n"
     ]
    }
   ],
   "source": [
    "chi_feature = generate_chi_feature(X_ros, y_ros, 3000)\n",
    "print(str(len(chi_feature)), 'selected features')"
   ]
  },
  {
   "cell_type": "code",
   "execution_count": 63,
   "metadata": {},
   "outputs": [
    {
     "data": {
      "text/plain": [
       "['optimum',\n",
       " 'yup',\n",
       " 'that',\n",
       " 'hone',\n",
       " 'g',\n",
       " 'disregard',\n",
       " 'opposition',\n",
       " 'lack',\n",
       " 'teacher',\n",
       " 'psfnanotube']"
      ]
     },
     "execution_count": 63,
     "metadata": {},
     "output_type": "execute_result"
    }
   ],
   "source": [
    "chi_feature[:10]"
   ]
  },
  {
   "cell_type": "markdown",
   "metadata": {},
   "source": [
    "### Lasso: Select From Model\n",
    "Lasso's norm regularizer forces feature weights to be zero and so the higher the value of alpha the fewer features that have non-zero values."
   ]
  },
  {
   "cell_type": "code",
   "execution_count": 64,
   "metadata": {},
   "outputs": [],
   "source": [
    "from sklearn.feature_selection import SelectFromModel #for selecting features\n",
    "from sklearn.linear_model import LogisticRegression #import the logistic regression model\n",
    "\n",
    "def generate_lr_feature(X, y, max_feats):\n",
    "    X_norm = MinMaxScaler().fit_transform(X)\n",
    "    lr_selector = SelectFromModel(LogisticRegression(solver=\"liblinear\", penalty=\"l1\", random_state=random_state), max_features=max_feats) #lasso regression uses L1 norm as regularizer and random_state to an integer to make sure examples are repeatable\n",
    "    lr_selector.fit(X_norm, y)\n",
    "    lr_support = lr_selector.get_support()\n",
    "    lr_feature = X.loc[:,lr_support].columns.tolist()\n",
    "    return lr_feature"
   ]
  },
  {
   "cell_type": "code",
   "execution_count": 65,
   "metadata": {},
   "outputs": [
    {
     "name": "stdout",
     "output_type": "stream",
     "text": [
      "715 selected features\n"
     ]
    }
   ],
   "source": [
    "lr_feature = generate_lr_feature(X_ros, y_ros, 3000)\n",
    "print(str(len(lr_feature)), 'selected features')"
   ]
  },
  {
   "cell_type": "code",
   "execution_count": 66,
   "metadata": {},
   "outputs": [
    {
     "data": {
      "text/plain": [
       "['hone',\n",
       " 'psfnanotube',\n",
       " 'reviewing',\n",
       " 'devices',\n",
       " 'perspective',\n",
       " 'choosing',\n",
       " 'answers',\n",
       " 'receives',\n",
       " 'high',\n",
       " 'share']"
      ]
     },
     "execution_count": 66,
     "metadata": {},
     "output_type": "execute_result"
    }
   ],
   "source": [
    "lr_feature[:10]"
   ]
  },
  {
   "cell_type": "markdown",
   "metadata": {},
   "source": [
    "### Tree-Based: Select From Model\n",
    "Random Forest calculates the final feature importance by taking the average of all decision tree feature importance."
   ]
  },
  {
   "cell_type": "code",
   "execution_count": 67,
   "metadata": {},
   "outputs": [],
   "source": [
    "from sklearn.ensemble import RandomForestClassifier\n",
    "def generate_rf_feature(X, y, max_feats):\n",
    "    rf_selector = SelectFromModel(RandomForestClassifier(n_estimators=100, random_state=random_state), max_features=max_feats)\n",
    "    rf_selector.fit(X, y)\n",
    "    rf_support = rf_selector.get_support()\n",
    "    rf_feature = X.loc[:,rf_support].columns.tolist()\n",
    "    return rf_feature"
   ]
  },
  {
   "cell_type": "code",
   "execution_count": 68,
   "metadata": {},
   "outputs": [
    {
     "name": "stdout",
     "output_type": "stream",
     "text": [
      "1029 selected features\n"
     ]
    }
   ],
   "source": [
    "rf_feature = generate_rf_feature(X_ros, y_ros, 3000)\n",
    "print(str(len(rf_feature)), 'selected features')"
   ]
  },
  {
   "cell_type": "code",
   "execution_count": 69,
   "metadata": {},
   "outputs": [
    {
     "data": {
      "text/plain": [
       "['yup',\n",
       " 'that',\n",
       " 'lack',\n",
       " 'devices',\n",
       " 'charged',\n",
       " 'inputs',\n",
       " 'shred',\n",
       " 'experience',\n",
       " 'list',\n",
       " 'i\\x89û÷ll']"
      ]
     },
     "execution_count": 69,
     "metadata": {},
     "output_type": "execute_result"
    }
   ],
   "source": [
    "rf_feature[:10]"
   ]
  },
  {
   "cell_type": "markdown",
   "metadata": {},
   "source": [
    "\n",
    "## Classification Models"
   ]
  },
  {
   "cell_type": "code",
   "execution_count": 70,
   "metadata": {},
   "outputs": [],
   "source": [
    "import seaborn as sns\n",
    "import matplotlib.pyplot as plt"
   ]
  },
  {
   "cell_type": "markdown",
   "metadata": {},
   "source": [
    "### Logistic Regression"
   ]
  },
  {
   "cell_type": "code",
   "execution_count": 71,
   "metadata": {},
   "outputs": [],
   "source": [
    "from sklearn.model_selection import train_test_split # for splitting the data into training and testing sets\n",
    "# split the data into 80% training and 20% testing, random_state to an integer ensures that the results are repeatable\n",
    "X_train,X_test,y_train,y_test=train_test_split(X_ros,y_ros,train_size=0.8,random_state=random_state)"
   ]
  },
  {
   "cell_type": "code",
   "execution_count": 72,
   "metadata": {},
   "outputs": [],
   "source": [
    "def generate_lr_model(X_train, X_test, y_train):\n",
    "    # penalty='none' implies no regularization and solver='lbfgs' is the default solver\n",
    "    model = LogisticRegression(solver='lbfgs', penalty='none', max_iter=4000, random_state=random_state)\n",
    "    # fit the training data to the model\n",
    "    model.fit(X_train, y_train)\n",
    "    y_pred = model.predict(X_test)\n",
    "    y_pred_proba = model.predict_proba(X_test)\n",
    "    return model, y_pred, y_pred_proba"
   ]
  },
  {
   "cell_type": "code",
   "execution_count": 73,
   "metadata": {},
   "outputs": [],
   "source": [
    "model, y_pred, y_pred_proba = generate_lr_model(X_train, X_test, y_train)"
   ]
  },
  {
   "cell_type": "code",
   "execution_count": 74,
   "metadata": {},
   "outputs": [],
   "source": [
    "from sklearn.metrics import accuracy_score, precision_score, recall_score # import the score functions \n",
    "from sklearn.metrics import confusion_matrix\n",
    "def plot_confusion_matrix(y_test, y_pred, axs=None, title=\"\", fontsize = 12):\n",
    "    ax = sns.heatmap(confusion_matrix(y_test, y_pred), cmap=\"Blues\", annot=True, linewidths=.5, ax=axs)\n",
    "    ax.set_title('Confusion Matrix' + title + \"\\n Accuracy: \" + str(accuracy_score(y_test, y_pred)), fontsize=fontsize) # add a title\n",
    "    ax.set_ylabel('Actual label') # add a ylabel\n",
    "    ax.set_xlabel('Predicted label') # add a xlabel"
   ]
  },
  {
   "cell_type": "code",
   "execution_count": 75,
   "metadata": {},
   "outputs": [
    {
     "data": {
      "image/png": "[encoded data removed]",
      "text/plain": [
       "<Figure size 432x288 with 2 Axes>"
      ]
     },
     "metadata": {
      "needs_background": "light"
     },
     "output_type": "display_data"
    }
   ],
   "source": [
    "#plot confusion matrix \n",
    "plot_confusion_matrix(y_pred, y_test)"
   ]
  },
  {
   "cell_type": "code",
   "execution_count": 76,
   "metadata": {},
   "outputs": [
    {
     "data": {
      "image/png": "[encoded data removed]",
      "text/plain": [
       "<Figure size 1080x864 with 8 Axes>"
      ]
     },
     "metadata": {
      "needs_background": "light"
     },
     "output_type": "display_data"
    }
   ],
   "source": [
    "fig, axs = plt.subplots(2, 2, figsize=(15, 12))\n",
    "\n",
    "cor_feature = generate_cor_feature(X_ros, y_ros, 1800)\n",
    "chi_feature = generate_chi_feature(X_ros, y_ros, 3500)\n",
    "lr_feature = generate_lr_feature(X_ros, y_ros, 600)\n",
    "rf_feature = generate_rf_feature(X_ros, y_ros, 700)\n",
    "\n",
    "# # Group features \n",
    "# cor_feature = generate_cor_feature(X_ros, y_ros, 200)\n",
    "# chi_feature = generate_chi_feature(X_ros, y_ros, 1200)\n",
    "# lr_feature = generate_lr_feature(X_ros, y_ros, 100)\n",
    "# rf_feature = generate_rf_feature(X_ros, y_ros, 500)\n",
    "\n",
    "features = [cor_feature, chi_feature, lr_feature, rf_feature]\n",
    "titles = [\"Pearson Correlation\", \"Chi-Squared\", \"Lasso Regression\", \"Random Forest\"]\n",
    "i_n = [0, 0, 1, 1]\n",
    "j_n = [0, 1, 0, 1]\n",
    "for i, j, feature, title in zip(i_n, j_n, features, titles):\n",
    "    X_train,X_test,y_train,y_test=train_test_split(X_ros[[*feature]],y_ros,train_size=0.8,random_state=random_state)\n",
    "    model, y_pred, y_pred_proba = generate_lr_model(X_train, X_test, y_train)\n",
    "    full_title = \" for \" + title + \" features\"\n",
    "    plot_confusion_matrix(y_test, y_pred, axs[i, j], full_title, 11)"
   ]
  },
  {
   "cell_type": "markdown",
   "metadata": {},
   "source": [
    "### For entire data frame\n",
    "Choosing 1800 Pearson Correlation features provides an accuracy of approximately 86% for the Logistic Regression model\n",
    "\n",
    "Choosing 3500 Chi-Squared features provides an accuracy of approximately 87% for the Logistic Regression model\n",
    "\n",
    "Choosing 600 Lasso Regression features provides an accuracy of approximately 92% for the Logistic Regression model\n",
    "\n",
    "Choosing 700 Random Forest features provides an accuracy of approximately 87% for the Logistic Regression model\n",
    "\n",
    "### For group 2\n",
    "Choosing 200 Pearson Correlation features provides an accuracy of approximately 82% for the Logistic Regression model\n",
    "\n",
    "Choosing 1200 Chi-Squared features provides an accuracy of approximately 87% for the Logistic Regression model\n",
    "\n",
    "Choosing 100 Lasso Regression features provides an accuracy of approximately 95% for the Logistic Regression model\n",
    "\n",
    "Choosing 500 Random Forest features provides an accuracy of approximately 87% for the Logistic Regression model"
   ]
  },
  {
   "cell_type": "markdown",
   "metadata": {},
   "source": [
    "### Naïve Bayes\n",
    "Naive Bayes algorithm based on Bayes’ theorem with the assumption of independence between every pair of features."
   ]
  },
  {
   "cell_type": "code",
   "execution_count": 77,
   "metadata": {},
   "outputs": [],
   "source": [
    "# split the data into 80% training and 20% testing, random_state to an integer ensures that the results are repeatable\n",
    "X_train,X_test,y_train,y_test=train_test_split(X_ros,y_ros,train_size=0.8,random_state=random_state)"
   ]
  },
  {
   "cell_type": "code",
   "execution_count": 78,
   "metadata": {},
   "outputs": [],
   "source": [
    "from sklearn.naive_bayes import GaussianNB\n",
    "def generate_gnb_model(X_train, X_test, y_train):\n",
    "    model = GaussianNB() \n",
    "    # fit the training data to the model\n",
    "    model.fit(X_train, y_train)\n",
    "    y_pred = model.predict(X_test)\n",
    "    y_pred_proba = model.predict_proba(X_test)\n",
    "    return model, y_pred, y_pred_proba"
   ]
  },
  {
   "cell_type": "code",
   "execution_count": 79,
   "metadata": {},
   "outputs": [],
   "source": [
    "model, y_pred, y_pred_proba = generate_gnb_model(X_train, X_test, y_train)"
   ]
  },
  {
   "cell_type": "code",
   "execution_count": 80,
   "metadata": {},
   "outputs": [
    {
     "data": {
      "image/png": "[encoded data removed]",
      "text/plain": [
       "<Figure size 432x288 with 2 Axes>"
      ]
     },
     "metadata": {
      "needs_background": "light"
     },
     "output_type": "display_data"
    }
   ],
   "source": [
    "#plot confusion matrix \n",
    "plot_confusion_matrix(y_pred, y_test)"
   ]
  },
  {
   "cell_type": "code",
   "execution_count": 81,
   "metadata": {},
   "outputs": [
    {
     "data": {
      "image/png": "[encoded data removed]",
      "text/plain": [
       "<Figure size 1080x864 with 8 Axes>"
      ]
     },
     "metadata": {
      "needs_background": "light"
     },
     "output_type": "display_data"
    }
   ],
   "source": [
    "fig, axs = plt.subplots(2, 2, figsize=(15, 12))\n",
    "\n",
    "cor_feature = generate_cor_feature(X_ros, y_ros, 4800)\n",
    "chi_feature = generate_chi_feature(X_ros, y_ros, 3500)\n",
    "lr_feature = generate_lr_feature(X_ros, y_ros, 700)\n",
    "rf_feature = generate_rf_feature(X_ros, y_ros, 900)\n",
    "\n",
    "# # Group features\n",
    "# cor_feature = generate_cor_feature(X_ros, y_ros, 700)\n",
    "# chi_feature = generate_chi_feature(X_ros, y_ros, 1000)\n",
    "# lr_feature = generate_lr_feature(X_ros, y_ros, 200)\n",
    "# rf_feature = generate_rf_feature(X_ros, y_ros, 200)\n",
    "\n",
    "features = [cor_feature, chi_feature, lr_feature, rf_feature]\n",
    "titles = [\"Pearson Correlation\", \"Chi-Squared\", \"Lasso Regression\", \"Random Forest\"]\n",
    "i_n = [0, 0, 1, 1]\n",
    "j_n = [0, 1, 0, 1]\n",
    "for i, j, feature, title in zip(i_n, j_n, features, titles):\n",
    "    X_train,X_test,y_train,y_test=train_test_split(X_ros[[*feature]],y_ros,train_size=0.8,random_state=random_state)\n",
    "    model, y_pred, y_pred_proba = generate_gnb_model(X_train, X_test, y_train)\n",
    "    full_title = \" for \" + title + \" features\"\n",
    "    plot_confusion_matrix(y_test, y_pred, axs[i, j], full_title, 11)"
   ]
  },
  {
   "cell_type": "markdown",
   "metadata": {},
   "source": [
    "### For entire data frame\n",
    "Choosing 4800 Pearson Correlation features provides an accuracy of approximately 88% for the Naive Bayes model\n",
    "\n",
    "Choosing 3500 Chi-Squared features provides an accuracy of approximately 90% for the Naive Bayes model\n",
    "\n",
    "Choosing 700 Lasso Regression features provides an accuracy of approximately 86% for the Naive Bayes model\n",
    "\n",
    "Choosing 900 Random Forest features provides an accuracy of approximately 84% for the Naive Bayes model\n",
    "\n",
    "### For group 2\n",
    "Choosing 700 Pearson Correlation features provides an accuracy of approximately 74% for the Naive Bayes model\n",
    "\n",
    "Choosing 1000 Chi-Squared features provides an accuracy of approximately 85% for the Naive Bayes model\n",
    "\n",
    "Choosing 200 Lasso Regression features provides an accuracy of approximately 85% for the Naive Bayes model\n",
    "\n",
    "Choosing 200 Random Forest features provides an accuracy of approximately 87% for the Naive Bayes model\n"
   ]
  },
  {
   "cell_type": "markdown",
   "metadata": {},
   "source": [
    "### Decision Trees"
   ]
  },
  {
   "cell_type": "code",
   "execution_count": 82,
   "metadata": {},
   "outputs": [],
   "source": [
    "# split the data into 80% training and 20% testing, random_state to an integer ensures that the results are repeatable\n",
    "X_train,X_test,y_train,y_test=train_test_split(X_ros,y_ros,train_size=0.8,random_state=random_state)"
   ]
  },
  {
   "cell_type": "code",
   "execution_count": 83,
   "metadata": {},
   "outputs": [],
   "source": [
    "def generate_dtc_model(X_train, X_test, y_train):\n",
    "    model = DecisionTreeClassifier(max_depth = 150, random_state=random_state) #random_state to an integer to make sure examples are repeatable\n",
    "    # fit the training data to the model\n",
    "    model.fit(X_train, y_train)\n",
    "    y_pred = model.predict(X_test)\n",
    "    y_pred_proba = model.predict_proba(X_test)\n",
    "    return model, y_pred, y_pred_proba"
   ]
  },
  {
   "cell_type": "code",
   "execution_count": 84,
   "metadata": {},
   "outputs": [],
   "source": [
    "model, y_pred, y_pred_proba = generate_dtc_model(X_train, X_test, y_train)"
   ]
  },
  {
   "cell_type": "code",
   "execution_count": 85,
   "metadata": {},
   "outputs": [
    {
     "data": {
      "image/png": "[encoded data removed]",
      "text/plain": [
       "<Figure size 432x288 with 2 Axes>"
      ]
     },
     "metadata": {
      "needs_background": "light"
     },
     "output_type": "display_data"
    }
   ],
   "source": [
    "#plot confusion matrix \n",
    "plot_confusion_matrix(y_pred, y_test)"
   ]
  },
  {
   "cell_type": "code",
   "execution_count": 86,
   "metadata": {},
   "outputs": [
    {
     "data": {
      "image/png": "[encoded data removed]",
      "text/plain": [
       "<Figure size 1080x864 with 8 Axes>"
      ]
     },
     "metadata": {
      "needs_background": "light"
     },
     "output_type": "display_data"
    }
   ],
   "source": [
    "fig, axs = plt.subplots(2, 2, figsize=(15, 12))\n",
    "\n",
    "cor_feature = generate_cor_feature(X_ros, y_ros, 2800)\n",
    "chi_feature = generate_chi_feature(X_ros, y_ros, 3300)\n",
    "lr_feature = generate_lr_feature(X_ros, y_ros, 400)\n",
    "rf_feature = generate_rf_feature(X_ros, y_ros, 300)\n",
    "\n",
    "# Group features\n",
    "# cor_feature = generate_cor_feature(X_ros, y_ros, 300)\n",
    "# chi_feature = generate_chi_feature(X_ros, y_ros, 800)\n",
    "# lr_feature = generate_lr_feature(X_ros, y_ros, 100)\n",
    "# rf_feature = generate_rf_feature(X_ros, y_ros, 400)\n",
    "\n",
    "features = [cor_feature, chi_feature, lr_feature, rf_feature]\n",
    "titles = [\"Pearson Correlation\", \"Chi-Squared\", \"Lasso Regression\", \"Random Forest\"]\n",
    "i_n = [0, 0, 1, 1]\n",
    "j_n = [0, 1, 0, 1]\n",
    "for i, j, feature, title in zip(i_n, j_n, features, titles):\n",
    "    X_train,X_test,y_train,y_test=train_test_split(X_ros[[*feature]],y_ros,train_size=0.8,random_state=random_state)\n",
    "    model, y_pred, y_pred_proba = generate_dtc_model(X_train, X_test, y_train)\n",
    "    full_title = \" for \" + title + \" features\"\n",
    "    plot_confusion_matrix(y_test, y_pred, axs[i, j], full_title, 11)"
   ]
  },
  {
   "cell_type": "markdown",
   "metadata": {},
   "source": [
    "### For entire data frame\n",
    "Choosing 2800 Pearson Correlation features provides an accuracy of approximately 87% for the Decision Trees model\n",
    "\n",
    "Choosing 3300 Chi-Squared features provides an accuracy of approximately 85% for the Decision Trees model\n",
    "\n",
    "Choosing 400 Lasso Regression features provides an accuracy of approximately 87% for the Decision Trees model\n",
    "\n",
    "Choosing 300 Random Forest features provides an accuracy of approximately 85% for the Decision Trees model\n",
    "\n",
    "### For group 2\n",
    "Choosing 300 Pearson Correlation features provides an accuracy of approximately 82% for the Decision Trees model\n",
    "\n",
    "Choosing 800 Chi-Squared features provides an accuracy of approximately 82% for the Decision Trees model\n",
    "\n",
    "Choosing 100 Lasso Regression features provides an accuracy of approximately 85% for the Decision Trees model\n",
    "\n",
    "Choosing 400 Random Forest features provides an accuracy of approximately 85% for the Decision Trees model"
   ]
  },
  {
   "cell_type": "markdown",
   "metadata": {},
   "source": [
    "### Random Forest "
   ]
  },
  {
   "cell_type": "code",
   "execution_count": 87,
   "metadata": {},
   "outputs": [],
   "source": [
    "# split the data into 80% training and 20% testing, random_state to an integer ensures that the results are repeatable\n",
    "X_train,X_test,y_train,y_test=train_test_split(X_ros,y_ros,train_size=0.8,random_state=random_state)"
   ]
  },
  {
   "cell_type": "code",
   "execution_count": 88,
   "metadata": {},
   "outputs": [],
   "source": [
    "from sklearn.ensemble import RandomForestClassifier\n",
    "def generate_rfc_model(X_train, X_test, y_train):\n",
    "    model = RandomForestClassifier(random_state=random_state) #random_state to an integer to make sure examples are repeatable\n",
    "    # fit the training data to the model\n",
    "    model.fit(X_train, y_train)\n",
    "    y_pred = model.predict(X_test)\n",
    "    y_pred_proba = model.predict_proba(X_test)\n",
    "    return model, y_pred, y_pred_proba"
   ]
  },
  {
   "cell_type": "code",
   "execution_count": 89,
   "metadata": {},
   "outputs": [],
   "source": [
    "model, y_pred, y_pred_proba = generate_rfc_model(X_train, X_test, y_train)"
   ]
  },
  {
   "cell_type": "code",
   "execution_count": 90,
   "metadata": {},
   "outputs": [
    {
     "data": {
      "image/png": "[encoded data removed]",
      "text/plain": [
       "<Figure size 432x288 with 2 Axes>"
      ]
     },
     "metadata": {
      "needs_background": "light"
     },
     "output_type": "display_data"
    }
   ],
   "source": [
    "#plot confusion matrix \n",
    "plot_confusion_matrix(y_pred, y_test)"
   ]
  },
  {
   "cell_type": "code",
   "execution_count": 91,
   "metadata": {},
   "outputs": [
    {
     "data": {
      "image/png": "[encoded data removed]",
      "text/plain": [
       "<Figure size 1080x864 with 8 Axes>"
      ]
     },
     "metadata": {
      "needs_background": "light"
     },
     "output_type": "display_data"
    }
   ],
   "source": [
    "fig, axs = plt.subplots(2, 2, figsize=(15, 12))\n",
    "\n",
    "cor_feature = generate_cor_feature(X_ros, y_ros, 2800)\n",
    "chi_feature = generate_chi_feature(X_ros, y_ros, 5000)\n",
    "lr_feature = generate_lr_feature(X_ros, y_ros, 600)\n",
    "rf_feature = generate_rf_feature(X_ros, y_ros, 600)\n",
    "\n",
    "# # Group features\n",
    "# cor_feature = generate_cor_feature(X_ros, y_ros, 1300)\n",
    "# chi_feature = generate_chi_feature(X_ros, y_ros, 1200)\n",
    "# lr_feature = generate_lr_feature(X_ros, y_ros, 100)\n",
    "# rf_feature = generate_rf_feature(X_ros, y_ros, 100)\n",
    "\n",
    "features = [cor_feature, chi_feature, lr_feature, rf_feature]\n",
    "titles = [\"Pearson Correlation\", \"Chi-Squared\", \"Lasso Regression\", \"Random Forest\"]\n",
    "i_n = [0, 0, 1, 1]\n",
    "j_n = [0, 1, 0, 1]\n",
    "for i, j, feature, title in zip(i_n, j_n, features, titles):\n",
    "    X_train,X_test,y_train,y_test=train_test_split(X_ros[[*feature]],y_ros,train_size=0.8,random_state=random_state)\n",
    "    model, y_pred, y_pred_proba = generate_rfc_model(X_train, X_test, y_train)\n",
    "    full_title = \" for \" + title + \" features\"\n",
    "    plot_confusion_matrix(y_test, y_pred, axs[i, j], full_title, 11)"
   ]
  },
  {
   "cell_type": "markdown",
   "metadata": {},
   "source": [
    "### For entire data frame\n",
    "Choosing 2800 Pearson Correlation features provides an accuracy of approximately 87% for the Decision Trees model\n",
    "\n",
    "Choosing 5000 Chi-Squared features provides an accuracy of approximately 87% for the Decision Trees model\n",
    "\n",
    "Choosing 600 Lasso Regression features provides an accuracy of approximately 90% for the Decision Trees model\n",
    "\n",
    "Choosing 600 Random Forest features provides an accuracy of approximately 87% for the Decision Trees model\n",
    "\n",
    "### For group 2\n",
    "Choosing 1300 Pearson Correlation features provides an accuracy of approximately 85% for the Decision Trees model\n",
    "\n",
    "Choosing 1200 Chi-Squared features provides an accuracy of approximately 85% for the Decision Trees model\n",
    "\n",
    "Choosing 100 Lasso Regression features provides an accuracy of approximately 85% for the Decision Trees model\n",
    "\n",
    "Choosing 100 Random Forest features provides an accuracy of approximately 79% for the Decision Trees model"
   ]
  },
  {
   "cell_type": "markdown",
   "metadata": {},
   "source": [
    "### Optimising Feature Selection"
   ]
  },
  {
   "cell_type": "code",
   "execution_count": 92,
   "metadata": {},
   "outputs": [],
   "source": [
    "def optimise_feature_selection(model_type, iter_interval=100):\n",
    "    best_cor_acc = 0\n",
    "    best_cor_num = 0\n",
    "    best_chi_acc = 0\n",
    "    best_chi_num = 0\n",
    "    best_lr_acc = 0\n",
    "    best_lr_num = 0\n",
    "    best_rf_acc = 0\n",
    "    best_rf_num = 0\n",
    "    if model_type == 'lr':\n",
    "        for num_feats in range(iter_interval, len(word_set), iter_interval):\n",
    "            cor_feature = generate_cor_feature(X_ros, y_ros, num_feats)\n",
    "            X_train,X_test,y_train,y_test=train_test_split(X_ros[[*cor_feature]],y_ros,train_size=0.8,random_state=random_state)\n",
    "            model, y_pred, y_pred_proba = generate_lr_model(X_train, X_test, y_train)\n",
    "            accuracy = accuracy_score(y_test, y_pred)\n",
    "            if accuracy > best_cor_acc:\n",
    "                best_cor_num = num_feats\n",
    "                best_cor_acc = accuracy\n",
    "            chi_feature = generate_chi_feature(X_ros, y_ros, num_feats)\n",
    "            X_train,X_test,y_train,y_test=train_test_split(X_ros[[*chi_feature]],y_ros,train_size=0.8,random_state=random_state)\n",
    "            model, y_pred, y_pred_proba = generate_lr_model(X_train, X_test, y_train)\n",
    "            accuracy = accuracy_score(y_test, y_pred)\n",
    "            if accuracy > best_chi_acc:\n",
    "                best_chi_num = num_feats\n",
    "                best_chi_acc = accuracy\n",
    "            lr_feature = generate_lr_feature(X_ros, y_ros, num_feats)\n",
    "            X_train,X_test,y_train,y_test=train_test_split(X_ros[[*lr_feature]],y_ros,train_size=0.8,random_state=random_state)\n",
    "            model, y_pred, y_pred_proba = generate_lr_model(X_train, X_test, y_train)\n",
    "            accuracy = accuracy_score(y_test, y_pred)\n",
    "            if accuracy > best_lr_acc:\n",
    "                best_lr_num = num_feats\n",
    "                best_lr_acc = accuracy\n",
    "            rf_feature = generate_rf_feature(X_ros, y_ros, num_feats)\n",
    "            X_train,X_test,y_train,y_test=train_test_split(X_ros[[*rf_feature]],y_ros,train_size=0.8,random_state=random_state)\n",
    "            model, y_pred, y_pred_proba = generate_lr_model(X_train, X_test, y_train)\n",
    "            accuracy = accuracy_score(y_test, y_pred)\n",
    "            if accuracy > best_rf_acc:\n",
    "                best_rf_num = num_feats\n",
    "                best_rf_acc = accuracy\n",
    "\n",
    "    if model_type == 'gnb':\n",
    "        for num_feats in range(iter_interval, len(word_set), iter_interval):\n",
    "            cor_feature = generate_cor_feature(X_ros, y_ros, num_feats)\n",
    "            X_train,X_test,y_train,y_test=train_test_split(X_ros[[*cor_feature]],y_ros,train_size=0.8,random_state=random_state)\n",
    "            model, y_pred, y_pred_proba = generate_gnb_model(X_train, X_test, y_train)\n",
    "            accuracy = accuracy_score(y_test, y_pred)\n",
    "            if accuracy > best_cor_acc:\n",
    "                best_cor_num = num_feats\n",
    "                best_cor_acc = accuracy\n",
    "            chi_feature = generate_chi_feature(X_ros, y_ros, num_feats)\n",
    "            X_train,X_test,y_train,y_test=train_test_split(X_ros[[*chi_feature]],y_ros,train_size=0.8,random_state=random_state)\n",
    "            model, y_pred, y_pred_proba = generate_gnb_model(X_train, X_test, y_train)\n",
    "            accuracy = accuracy_score(y_test, y_pred)\n",
    "            if accuracy > best_chi_acc:\n",
    "                best_chi_num = num_feats\n",
    "                best_chi_acc = accuracy\n",
    "            lr_feature = generate_lr_feature(X_ros, y_ros, num_feats)\n",
    "            X_train,X_test,y_train,y_test=train_test_split(X_ros[[*lr_feature]],y_ros,train_size=0.8,random_state=random_state)\n",
    "            model, y_pred, y_pred_proba = generate_gnb_model(X_train, X_test, y_train)\n",
    "            accuracy = accuracy_score(y_test, y_pred)\n",
    "            if accuracy > best_lr_acc:\n",
    "                best_lr_num = num_feats\n",
    "                best_lr_acc = accuracy\n",
    "            rf_feature = generate_rf_feature(X_ros, y_ros, num_feats)\n",
    "            X_train,X_test,y_train,y_test=train_test_split(X_ros[[*rf_feature]],y_ros,train_size=0.8,random_state=random_state)\n",
    "            model, y_pred, y_pred_proba = generate_gnb_model(X_train, X_test, y_train)\n",
    "            accuracy = accuracy_score(y_test, y_pred)\n",
    "            if accuracy > best_rf_acc:\n",
    "                best_rf_num = num_feats\n",
    "                best_rf_acc = accuracy\n",
    "\n",
    "    if model_type == 'dtc':\n",
    "        for num_feats in range(iter_interval, len(word_set), iter_interval):\n",
    "            cor_feature = generate_cor_feature(X_ros, y_ros, num_feats)\n",
    "            X_train,X_test,y_train,y_test=train_test_split(X_ros[[*cor_feature]],y_ros,train_size=0.8,random_state=random_state)\n",
    "            model, y_pred, y_pred_proba = generate_dtc_model(X_train, X_test, y_train)\n",
    "            accuracy = accuracy_score(y_test, y_pred)\n",
    "            if accuracy > best_cor_acc:\n",
    "                best_cor_num = num_feats\n",
    "                best_cor_acc = accuracy\n",
    "            chi_feature = generate_chi_feature(X_ros, y_ros, num_feats)\n",
    "            X_train,X_test,y_train,y_test=train_test_split(X_ros[[*chi_feature]],y_ros,train_size=0.8,random_state=random_state)\n",
    "            model, y_pred, y_pred_proba = generate_dtc_model(X_train, X_test, y_train)\n",
    "            accuracy = accuracy_score(y_test, y_pred)\n",
    "            if accuracy > best_chi_acc:\n",
    "                best_chi_num = num_feats\n",
    "                best_chi_acc = accuracy\n",
    "            lr_feature = generate_lr_feature(X_ros, y_ros, num_feats)\n",
    "            X_train,X_test,y_train,y_test=train_test_split(X_ros[[*lr_feature]],y_ros,train_size=0.8,random_state=random_state)\n",
    "            model, y_pred, y_pred_proba = generate_dtc_model(X_train, X_test, y_train)\n",
    "            accuracy = accuracy_score(y_test, y_pred)\n",
    "            if accuracy > best_lr_acc:\n",
    "                best_lr_num = num_feats\n",
    "                best_lr_acc = accuracy\n",
    "            rf_feature = generate_rf_feature(X_ros, y_ros, num_feats)\n",
    "            X_train,X_test,y_train,y_test=train_test_split(X_ros[[*rf_feature]],y_ros,train_size=0.8,random_state=random_state)\n",
    "            model, y_pred, y_pred_proba = generate_dtc_model(X_train, X_test, y_train)\n",
    "            accuracy = accuracy_score(y_test, y_pred)\n",
    "            if accuracy > best_rf_acc:\n",
    "                best_rf_num = num_feats\n",
    "                best_rf_acc = accuracy\n",
    "\n",
    "    if model_type == 'rfc':\n",
    "        for num_feats in range(iter_interval, len(word_set), iter_interval):\n",
    "            cor_feature = generate_cor_feature(X_ros, y_ros, num_feats)\n",
    "            X_train,X_test,y_train,y_test=train_test_split(X_ros[[*cor_feature]],y_ros,train_size=0.8,random_state=random_state)\n",
    "            model, y_pred, y_pred_proba = generate_rfc_model(X_train, X_test, y_train)\n",
    "            accuracy = accuracy_score(y_test, y_pred)\n",
    "            if accuracy > best_cor_acc:\n",
    "                best_cor_num = num_feats\n",
    "                best_cor_acc = accuracy\n",
    "            chi_feature = generate_chi_feature(X_ros, y_ros, num_feats)\n",
    "            X_train,X_test,y_train,y_test=train_test_split(X_ros[[*chi_feature]],y_ros,train_size=0.8,random_state=random_state)\n",
    "            model, y_pred, y_pred_proba = generate_rfc_model(X_train, X_test, y_train)\n",
    "            accuracy = accuracy_score(y_test, y_pred)\n",
    "            if accuracy > best_chi_acc:\n",
    "                best_chi_num = num_feats\n",
    "                best_chi_acc = accuracy\n",
    "            lr_feature = generate_lr_feature(X_ros, y_ros, num_feats)\n",
    "            X_train,X_test,y_train,y_test=train_test_split(X_ros[[*lr_feature]],y_ros,train_size=0.8,random_state=random_state)\n",
    "            model, y_pred, y_pred_proba = generate_rfc_model(X_train, X_test, y_train)\n",
    "            accuracy = accuracy_score(y_test, y_pred)\n",
    "            if accuracy > best_lr_acc:\n",
    "                best_lr_num = num_feats\n",
    "                best_lr_acc = accuracy\n",
    "            rf_feature = generate_rf_feature(X_ros, y_ros, num_feats)\n",
    "            X_train,X_test,y_train,y_test=train_test_split(X_ros[[*rf_feature]],y_ros,train_size=0.8,random_state=random_state)\n",
    "            model, y_pred, y_pred_proba = generate_rfc_model(X_train, X_test, y_train)\n",
    "            accuracy = accuracy_score(y_test, y_pred)\n",
    "            if accuracy > best_rf_acc:\n",
    "                best_rf_num = num_feats\n",
    "                best_rf_acc = accuracy\n",
    "\n",
    "    print(\"Best accuracy for Pearson Correlation features: \" + str(best_cor_acc) + \" with \" + str(best_cor_num) + \" features.\")\n",
    "    print(\"Best accuracy for Chi-Squared features: \" + str(best_chi_acc) + \" with \" + str(best_chi_num) + \" features.\")\n",
    "    print(\"Best accuracy for Lasso Regression features: \" + str(best_lr_acc) + \" with \" + str(best_lr_num) + \" features.\")\n",
    "    print(\"Best accuracy for Random Forest features: \" + str(best_rf_acc) + \" with \" + str(best_rf_num) + \" features.\")"
   ]
  },
  {
   "cell_type": "markdown",
   "metadata": {},
   "source": [
    "## Team Level Statistics "
   ]
  },
  {
   "cell_type": "code",
   "execution_count": 93,
   "metadata": {},
   "outputs": [],
   "source": [
    "df['group_id_implementation'] = df['group_id'].astype(str) + df['implementation']"
   ]
  },
  {
   "cell_type": "code",
   "execution_count": 94,
   "metadata": {},
   "outputs": [
    {
     "data": {
      "image/png": "[encoded data removed]",
      "text/plain": [
       "<Figure size 3240x6480 with 75 Axes>"
      ]
     },
     "metadata": {
      "needs_background": "light"
     },
     "output_type": "display_data"
    }
   ],
   "source": [
    "fig, axs = plt.subplots(15, 5, figsize=(45, 90))\n",
    "for k, group_id in zip(range(75), df['group_id_implementation'].unique()):\n",
    "    i = k//5\n",
    "    j = k%5\n",
    "    temp = np.zeros((9), dtype=int)\n",
    "    temp_counts = df[df['group_id_implementation'] == group_id]['OutcomeScore'].value_counts()\n",
    "    for l in temp_counts.index:\n",
    "        temp[l] = temp_counts[l]\n",
    "    pd.Series(temp).plot(kind='bar', ax=axs[i , j])\n",
    "    axs[i, j].set_title(\"Team \" + str(group_id))"
   ]
  },
  {
   "cell_type": "code",
   "execution_count": 95,
   "metadata": {},
   "outputs": [],
   "source": [
    "remove_group_lst = ['2d', '2g', '3b', '3e', '4b', '4i', '5b', '5c' '5e', '5i', '5o', '6l', '6m', '6n']"
   ]
  },
  {
   "cell_type": "code",
   "execution_count": 96,
   "metadata": {},
   "outputs": [],
   "source": [
    "df = df[~df['group_id_implementation'].isin(remove_group_lst)]"
   ]
  },
  {
   "cell_type": "code",
   "execution_count": 97,
   "metadata": {},
   "outputs": [
    {
     "data": {
      "image/png": "[encoded data removed]",
      "text/plain": [
       "<Figure size 432x288 with 1 Axes>"
      ]
     },
     "metadata": {
      "needs_background": "light"
     },
     "output_type": "display_data"
    }
   ],
   "source": [
    "df['OutcomeScore'].value_counts().plot(kind='bar', title='Outcome Score Count'); "
   ]
  },
  {
   "cell_type": "code",
   "execution_count": null,
   "metadata": {},
   "outputs": [],
   "source": []
  }
 ],
 "metadata": {
  "kernelspec": {
   "display_name": "Python 3",
   "language": "python",
   "name": "python3"
  },
  "language_info": {
   "codemirror_mode": {
    "name": "ipython",
    "version": 3
   },
   "file_extension": ".py",
   "mimetype": "text/x-python",
   "name": "python",
   "nbconvert_exporter": "python",
   "pygments_lexer": "ipython3",
   "version": "3.7.6"
  }
 },
 "nbformat": 4,
 "nbformat_minor": 4
}
