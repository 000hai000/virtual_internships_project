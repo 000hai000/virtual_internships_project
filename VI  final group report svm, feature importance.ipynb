{
 "cells": [
  {
   "cell_type": "code",
   "execution_count": 1,
   "metadata": {},
   "outputs": [],
   "source": [
    "#Import \n",
    "import pandas as pd\n",
    "import numpy as np\n",
    "import matplotlib.pyplot as plt\n",
    "\n",
    "\n",
    "from sklearn.model_selection import train_test_split\n",
    "from sklearn.metrics import accuracy_score\n",
    "from sklearn.svm import SVC\n",
    "\n",
    "import warnings\n",
    "warnings.filterwarnings('ignore') # suppress warnings\n",
    "\n",
    "from collections import Counter\n",
    "# import SVM libraries \n",
    "from sklearn.svm import SVC\n",
    "from sklearn.metrics import classification_report, roc_auc_score\n",
    "from imblearn.over_sampling import SMOTE"
   ]
  },
  {
   "cell_type": "code",
   "execution_count": 2,
   "metadata": {},
   "outputs": [],
   "source": [
    "#Read dataset and drop unwanted variables\n",
    "VI= pd.read_csv('VI userIDs 0404.csv')\n",
    "VI = VI.drop(['Unnamed: 0', 'userIDs', 'group_id','RoleName'], axis = 1)\n"
   ]
  },
  {
   "cell_type": "code",
   "execution_count": 3,
   "metadata": {},
   "outputs": [],
   "source": [
    "#define the explanatory and target variable\n",
    "X = VI[['m_experimental_testing', 'm_making_design_choices', 'm_asking_questions', 'j_customer_consultants_requests', 'j_performance_parameters_requirements', 'j_communication']]\n",
    "Y = VI['OutcomeScore']"
   ]
  },
  {
   "cell_type": "code",
   "execution_count": null,
   "metadata": {},
   "outputs": [],
   "source": []
  },
  {
   "cell_type": "code",
   "execution_count": 4,
   "metadata": {},
   "outputs": [],
   "source": [
    "#split into training and testing set\n",
    "X_train,X_test,Y_train,Y_test=train_test_split(X,Y,train_size=0.7,random_state=0) "
   ]
  },
  {
   "cell_type": "code",
   "execution_count": 5,
   "metadata": {},
   "outputs": [
    {
     "name": "stdout",
     "output_type": "stream",
     "text": [
      "Before oversampling:  Counter({4: 95, 2: 43, 3: 39, 5: 38, 6: 25, 1: 18, 0: 11, 7: 3, 8: 2})\n"
     ]
    },
    {
     "data": {
      "text/plain": [
       "0.339"
      ]
     },
     "execution_count": 5,
     "metadata": {},
     "output_type": "execute_result"
    }
   ],
   "source": [
    "#balance the dataset\n",
    "X_1 = VI[VI.drop(columns = ['OutcomeScore', 'wordCount']).columns]\n",
    "from imblearn.over_sampling import SMOTE\n",
    "# summarize class distribution\n",
    "print(\"Before oversampling: \",Counter(Y_train))\n",
    "\n",
    "# define oversampling strategy\n",
    "SMOTE = SMOTE(k_neighbors=1, random_state = 0)\n",
    "\n",
    "X_over, y_over = SMOTE.fit_resample(X_1, Y)\n",
    "model=SVC()\n",
    "clf_SMOTE = model.fit(X_over, y_over)\n",
    "pred_SMOTE = clf_SMOTE.predict(X_test)\n",
    "\n",
    "accuracy = np.round(accuracy_score(Y_test, pred_SMOTE),3) # calculate the accuracy score\n",
    "accuracy"
   ]
  },
  {
   "cell_type": "code",
   "execution_count": 10,
   "metadata": {},
   "outputs": [
    {
     "data": {
      "text/plain": [
       "<matplotlib.axes._subplots.AxesSubplot at 0x1fa8828fda0>"
      ]
     },
     "execution_count": 10,
     "metadata": {},
     "output_type": "execute_result"
    },
    {
     "data": {
      "image/png": "[encoded data removed]",
      "text/plain": [
       "<Figure size 432x288 with 1 Axes>"
      ]
     },
     "metadata": {
      "needs_background": "light"
     },
     "output_type": "display_data"
    }
   ],
   "source": [
    "#plot the balanced dataset\n",
    "outcome_score_count = y_over.value_counts()\n",
    "outcome_score_count.plot(kind = 'bar', title = 'Outcome score count after over sampling')"
   ]
  },
  {
   "cell_type": "code",
   "execution_count": 7,
   "metadata": {},
   "outputs": [
    {
     "data": {
      "text/plain": [
       "{'C': 1.0,\n",
       " 'break_ties': False,\n",
       " 'cache_size': 200,\n",
       " 'class_weight': None,\n",
       " 'coef0': 0.0,\n",
       " 'decision_function_shape': 'ovr',\n",
       " 'degree': 3,\n",
       " 'gamma': 'scale',\n",
       " 'kernel': 'rbf',\n",
       " 'max_iter': -1,\n",
       " 'probability': False,\n",
       " 'random_state': None,\n",
       " 'shrinking': True,\n",
       " 'tol': 0.001,\n",
       " 'verbose': False}"
      ]
     },
     "execution_count": 7,
     "metadata": {},
     "output_type": "execute_result"
    }
   ],
   "source": [
    "#get parameters used in the 'model'\n",
    "model.get_params()"
   ]
  },
  {
   "cell_type": "code",
   "execution_count": 30,
   "metadata": {},
   "outputs": [
    {
     "name": "stdout",
     "output_type": "stream",
     "text": [
      "0.949\n"
     ]
    }
   ],
   "source": [
    "#Model after hyperparameter tuning\n",
    "model=SVC(kernel = 'poly', degree =6 , coef0 = 11, C = 1.0, gamma = 0.2) \n",
    "clf_SMOTE = model.fit(X_over, y_over) #balanced\n",
    "pred_SMOTE = clf_SMOTE.predict(X_test) #unbalanced\n",
    "\n",
    "accuracy = np.round(accuracy_score(Y_test, pred_SMOTE),3) # calculate the accuracy score\n",
    "print(accuracy)\n"
   ]
  },
  {
   "cell_type": "code",
   "execution_count": 31,
   "metadata": {},
   "outputs": [
    {
     "name": "stdout",
     "output_type": "stream",
     "text": [
      "0.74 accuracy with a standard deviation of 0.02\n"
     ]
    }
   ],
   "source": [
    "#cross validation score\n",
    "from sklearn.model_selection import RepeatedStratifiedKFold\n",
    "from sklearn.model_selection import cross_val_score\n",
    "cv = RepeatedStratifiedKFold(n_splits=5, n_repeats=3, random_state=1)\n",
    "scores = cross_val_score(model, X_over, y_over, cv=cv) #unbalanced\n",
    "print(\"%0.2f accuracy with a standard deviation of %0.2f\" % (scores.mean(), scores.std()))"
   ]
  },
  {
   "cell_type": "markdown",
   "metadata": {},
   "source": [
    "## Feature Selection"
   ]
  },
  {
   "cell_type": "code",
   "execution_count": 143,
   "metadata": {},
   "outputs": [
    {
     "name": "stdout",
     "output_type": "stream",
     "text": [
      "                                   Specs      Score\n",
      "2                     m_asking_questions  11.781818\n",
      "0                 m_experimental_testing   3.751773\n",
      "3        j_customer_consultants_requests   3.260870\n",
      "1                m_making_design_choices   0.239604\n",
      "4  j_performance_parameters_requirements   0.238806\n",
      "5                        j_communication   0.062937\n"
     ]
    }
   ],
   "source": [
    "import pandas as pd\n",
    "import numpy as np\n",
    "from sklearn.feature_selection import SelectKBest\n",
    "from sklearn.feature_selection import chi2\n",
    "\n",
    "#apply SelectKBest class to extract top 10 best features\n",
    "bestfeatures = SelectKBest(score_func=chi2, k=6)\n",
    "fit = bestfeatures.fit(X[0:100],y)\n",
    "dfscores = pd.DataFrame(fit.scores_)\n",
    "dfcolumns = pd.DataFrame(X.columns)\n",
    "\n",
    "#concat two dataframes for better visualization \n",
    "featureScores = pd.concat([dfcolumns,dfscores],axis=1)\n",
    "featureScores.columns = ['Specs','Score']  #naming the dataframe columns\n",
    "print(featureScores.nlargest(10,'Score'))  #print 10 best features"
   ]
  },
  {
   "cell_type": "code",
   "execution_count": 144,
   "metadata": {},
   "outputs": [
    {
     "name": "stdout",
     "output_type": "stream",
     "text": [
      "0.932\n"
     ]
    }
   ],
   "source": [
    "#drop the worst feature and run the model.\n",
    "model=SVC(kernel = 'poly', degree =6 , coef0 = 11, C = 1.0, gamma = 0.2) \n",
    "clf_SMOTE = model.fit(X_over.drop('j_communication' , axis = 1), y_over) #balanced\n",
    "pred_SMOTE = clf_SMOTE.predict(X_test.drop('j_communication' , axis = 1)) #unbalanced\n",
    "\n",
    "accuracy = np.round(accuracy_score(Y_test, pred_SMOTE),3) # calculate the accuracy score\n",
    "print(accuracy)\n"
   ]
  }
 ],
 "metadata": {
  "kernelspec": {
   "display_name": "Python 3",
   "language": "python",
   "name": "python3"
  },
  "language_info": {
   "codemirror_mode": {
    "name": "ipython",
    "version": 3
   },
   "file_extension": ".py",
   "mimetype": "text/x-python",
   "name": "python",
   "nbconvert_exporter": "python",
   "pygments_lexer": "ipython3",
   "version": "3.6.10"
  }
 },
 "nbformat": 4,
 "nbformat_minor": 4
}
